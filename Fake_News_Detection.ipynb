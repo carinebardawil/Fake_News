{
  "nbformat": 4,
  "nbformat_minor": 0,
  "metadata": {
    "colab": {
      "name": "Fake_News_Detection.ipynb",
      "provenance": [],
      "authorship_tag": "ABX9TyOLZMAGYpT0jBJQAHtY7fxg",
      "include_colab_link": true
    },
    "kernelspec": {
      "name": "python3",
      "display_name": "Python 3"
    },
    "language_info": {
      "name": "python"
    },
    "widgets": {
      "application/vnd.jupyter.widget-state+json": {
        "79c64219b68c4fe29af181d571ec7b5c": {
          "model_module": "@jupyter-widgets/controls",
          "model_name": "HBoxModel",
          "model_module_version": "1.5.0",
          "state": {
            "_dom_classes": [],
            "_model_module": "@jupyter-widgets/controls",
            "_model_module_version": "1.5.0",
            "_model_name": "HBoxModel",
            "_view_count": null,
            "_view_module": "@jupyter-widgets/controls",
            "_view_module_version": "1.5.0",
            "_view_name": "HBoxView",
            "box_style": "",
            "children": [
              "IPY_MODEL_7222cbb753634523a51861ceb49d0f9a",
              "IPY_MODEL_5e0d9a9a42d3416c93abc5ca10709918",
              "IPY_MODEL_0aaf3dd6bc584ad086c864d96bd11b39"
            ],
            "layout": "IPY_MODEL_bcfb0b94e62340d09da96f86d9b383e9"
          }
        },
        "7222cbb753634523a51861ceb49d0f9a": {
          "model_module": "@jupyter-widgets/controls",
          "model_name": "HTMLModel",
          "model_module_version": "1.5.0",
          "state": {
            "_dom_classes": [],
            "_model_module": "@jupyter-widgets/controls",
            "_model_module_version": "1.5.0",
            "_model_name": "HTMLModel",
            "_view_count": null,
            "_view_module": "@jupyter-widgets/controls",
            "_view_module_version": "1.5.0",
            "_view_name": "HTMLView",
            "description": "",
            "description_tooltip": null,
            "layout": "IPY_MODEL_5067967f4d804f3ab8f4454daf34d692",
            "placeholder": "​",
            "style": "IPY_MODEL_2d0dcfe2cf7f4865a319968af753816e",
            "value": "Downloading builder script: "
          }
        },
        "5e0d9a9a42d3416c93abc5ca10709918": {
          "model_module": "@jupyter-widgets/controls",
          "model_name": "FloatProgressModel",
          "model_module_version": "1.5.0",
          "state": {
            "_dom_classes": [],
            "_model_module": "@jupyter-widgets/controls",
            "_model_module_version": "1.5.0",
            "_model_name": "FloatProgressModel",
            "_view_count": null,
            "_view_module": "@jupyter-widgets/controls",
            "_view_module_version": "1.5.0",
            "_view_name": "ProgressView",
            "bar_style": "success",
            "description": "",
            "description_tooltip": null,
            "layout": "IPY_MODEL_3dfcd9654a334fb5926886cff3b18e88",
            "max": 1667,
            "min": 0,
            "orientation": "horizontal",
            "style": "IPY_MODEL_1c356b02df5243298727ed8058f4677e",
            "value": 1667
          }
        },
        "0aaf3dd6bc584ad086c864d96bd11b39": {
          "model_module": "@jupyter-widgets/controls",
          "model_name": "HTMLModel",
          "model_module_version": "1.5.0",
          "state": {
            "_dom_classes": [],
            "_model_module": "@jupyter-widgets/controls",
            "_model_module_version": "1.5.0",
            "_model_name": "HTMLModel",
            "_view_count": null,
            "_view_module": "@jupyter-widgets/controls",
            "_view_module_version": "1.5.0",
            "_view_name": "HTMLView",
            "description": "",
            "description_tooltip": null,
            "layout": "IPY_MODEL_d8ec0e1044884398ac521e455a32adb7",
            "placeholder": "​",
            "style": "IPY_MODEL_82c3abf976624d9283e955367e80c4cf",
            "value": " 4.37k/? [00:00&lt;00:00, 69.4kB/s]"
          }
        },
        "bcfb0b94e62340d09da96f86d9b383e9": {
          "model_module": "@jupyter-widgets/base",
          "model_name": "LayoutModel",
          "model_module_version": "1.2.0",
          "state": {
            "_model_module": "@jupyter-widgets/base",
            "_model_module_version": "1.2.0",
            "_model_name": "LayoutModel",
            "_view_count": null,
            "_view_module": "@jupyter-widgets/base",
            "_view_module_version": "1.2.0",
            "_view_name": "LayoutView",
            "align_content": null,
            "align_items": null,
            "align_self": null,
            "border": null,
            "bottom": null,
            "display": null,
            "flex": null,
            "flex_flow": null,
            "grid_area": null,
            "grid_auto_columns": null,
            "grid_auto_flow": null,
            "grid_auto_rows": null,
            "grid_column": null,
            "grid_gap": null,
            "grid_row": null,
            "grid_template_areas": null,
            "grid_template_columns": null,
            "grid_template_rows": null,
            "height": null,
            "justify_content": null,
            "justify_items": null,
            "left": null,
            "margin": null,
            "max_height": null,
            "max_width": null,
            "min_height": null,
            "min_width": null,
            "object_fit": null,
            "object_position": null,
            "order": null,
            "overflow": null,
            "overflow_x": null,
            "overflow_y": null,
            "padding": null,
            "right": null,
            "top": null,
            "visibility": null,
            "width": null
          }
        },
        "5067967f4d804f3ab8f4454daf34d692": {
          "model_module": "@jupyter-widgets/base",
          "model_name": "LayoutModel",
          "model_module_version": "1.2.0",
          "state": {
            "_model_module": "@jupyter-widgets/base",
            "_model_module_version": "1.2.0",
            "_model_name": "LayoutModel",
            "_view_count": null,
            "_view_module": "@jupyter-widgets/base",
            "_view_module_version": "1.2.0",
            "_view_name": "LayoutView",
            "align_content": null,
            "align_items": null,
            "align_self": null,
            "border": null,
            "bottom": null,
            "display": null,
            "flex": null,
            "flex_flow": null,
            "grid_area": null,
            "grid_auto_columns": null,
            "grid_auto_flow": null,
            "grid_auto_rows": null,
            "grid_column": null,
            "grid_gap": null,
            "grid_row": null,
            "grid_template_areas": null,
            "grid_template_columns": null,
            "grid_template_rows": null,
            "height": null,
            "justify_content": null,
            "justify_items": null,
            "left": null,
            "margin": null,
            "max_height": null,
            "max_width": null,
            "min_height": null,
            "min_width": null,
            "object_fit": null,
            "object_position": null,
            "order": null,
            "overflow": null,
            "overflow_x": null,
            "overflow_y": null,
            "padding": null,
            "right": null,
            "top": null,
            "visibility": null,
            "width": null
          }
        },
        "2d0dcfe2cf7f4865a319968af753816e": {
          "model_module": "@jupyter-widgets/controls",
          "model_name": "DescriptionStyleModel",
          "model_module_version": "1.5.0",
          "state": {
            "_model_module": "@jupyter-widgets/controls",
            "_model_module_version": "1.5.0",
            "_model_name": "DescriptionStyleModel",
            "_view_count": null,
            "_view_module": "@jupyter-widgets/base",
            "_view_module_version": "1.2.0",
            "_view_name": "StyleView",
            "description_width": ""
          }
        },
        "3dfcd9654a334fb5926886cff3b18e88": {
          "model_module": "@jupyter-widgets/base",
          "model_name": "LayoutModel",
          "model_module_version": "1.2.0",
          "state": {
            "_model_module": "@jupyter-widgets/base",
            "_model_module_version": "1.2.0",
            "_model_name": "LayoutModel",
            "_view_count": null,
            "_view_module": "@jupyter-widgets/base",
            "_view_module_version": "1.2.0",
            "_view_name": "LayoutView",
            "align_content": null,
            "align_items": null,
            "align_self": null,
            "border": null,
            "bottom": null,
            "display": null,
            "flex": null,
            "flex_flow": null,
            "grid_area": null,
            "grid_auto_columns": null,
            "grid_auto_flow": null,
            "grid_auto_rows": null,
            "grid_column": null,
            "grid_gap": null,
            "grid_row": null,
            "grid_template_areas": null,
            "grid_template_columns": null,
            "grid_template_rows": null,
            "height": null,
            "justify_content": null,
            "justify_items": null,
            "left": null,
            "margin": null,
            "max_height": null,
            "max_width": null,
            "min_height": null,
            "min_width": null,
            "object_fit": null,
            "object_position": null,
            "order": null,
            "overflow": null,
            "overflow_x": null,
            "overflow_y": null,
            "padding": null,
            "right": null,
            "top": null,
            "visibility": null,
            "width": null
          }
        },
        "1c356b02df5243298727ed8058f4677e": {
          "model_module": "@jupyter-widgets/controls",
          "model_name": "ProgressStyleModel",
          "model_module_version": "1.5.0",
          "state": {
            "_model_module": "@jupyter-widgets/controls",
            "_model_module_version": "1.5.0",
            "_model_name": "ProgressStyleModel",
            "_view_count": null,
            "_view_module": "@jupyter-widgets/base",
            "_view_module_version": "1.2.0",
            "_view_name": "StyleView",
            "bar_color": null,
            "description_width": ""
          }
        },
        "d8ec0e1044884398ac521e455a32adb7": {
          "model_module": "@jupyter-widgets/base",
          "model_name": "LayoutModel",
          "model_module_version": "1.2.0",
          "state": {
            "_model_module": "@jupyter-widgets/base",
            "_model_module_version": "1.2.0",
            "_model_name": "LayoutModel",
            "_view_count": null,
            "_view_module": "@jupyter-widgets/base",
            "_view_module_version": "1.2.0",
            "_view_name": "LayoutView",
            "align_content": null,
            "align_items": null,
            "align_self": null,
            "border": null,
            "bottom": null,
            "display": null,
            "flex": null,
            "flex_flow": null,
            "grid_area": null,
            "grid_auto_columns": null,
            "grid_auto_flow": null,
            "grid_auto_rows": null,
            "grid_column": null,
            "grid_gap": null,
            "grid_row": null,
            "grid_template_areas": null,
            "grid_template_columns": null,
            "grid_template_rows": null,
            "height": null,
            "justify_content": null,
            "justify_items": null,
            "left": null,
            "margin": null,
            "max_height": null,
            "max_width": null,
            "min_height": null,
            "min_width": null,
            "object_fit": null,
            "object_position": null,
            "order": null,
            "overflow": null,
            "overflow_x": null,
            "overflow_y": null,
            "padding": null,
            "right": null,
            "top": null,
            "visibility": null,
            "width": null
          }
        },
        "82c3abf976624d9283e955367e80c4cf": {
          "model_module": "@jupyter-widgets/controls",
          "model_name": "DescriptionStyleModel",
          "model_module_version": "1.5.0",
          "state": {
            "_model_module": "@jupyter-widgets/controls",
            "_model_module_version": "1.5.0",
            "_model_name": "DescriptionStyleModel",
            "_view_count": null,
            "_view_module": "@jupyter-widgets/base",
            "_view_module_version": "1.2.0",
            "_view_name": "StyleView",
            "description_width": ""
          }
        },
        "6f3f73197f104729af87d00cbf323448": {
          "model_module": "@jupyter-widgets/controls",
          "model_name": "HBoxModel",
          "model_module_version": "1.5.0",
          "state": {
            "_dom_classes": [],
            "_model_module": "@jupyter-widgets/controls",
            "_model_module_version": "1.5.0",
            "_model_name": "HBoxModel",
            "_view_count": null,
            "_view_module": "@jupyter-widgets/controls",
            "_view_module_version": "1.5.0",
            "_view_name": "HBoxView",
            "box_style": "",
            "children": [
              "IPY_MODEL_82ae0c0826104076907fdbb6b23fa134",
              "IPY_MODEL_87c821a7e39b4282850c8ff314caa378",
              "IPY_MODEL_0b8de1ba3e7343fe9dc7f376ce17600c"
            ],
            "layout": "IPY_MODEL_cfe4f745905a49dfb0aa232e8827ed21"
          }
        },
        "82ae0c0826104076907fdbb6b23fa134": {
          "model_module": "@jupyter-widgets/controls",
          "model_name": "HTMLModel",
          "model_module_version": "1.5.0",
          "state": {
            "_dom_classes": [],
            "_model_module": "@jupyter-widgets/controls",
            "_model_module_version": "1.5.0",
            "_model_name": "HTMLModel",
            "_view_count": null,
            "_view_module": "@jupyter-widgets/controls",
            "_view_module_version": "1.5.0",
            "_view_name": "HTMLView",
            "description": "",
            "description_tooltip": null,
            "layout": "IPY_MODEL_8a073240a109410482cc779743a18f61",
            "placeholder": "​",
            "style": "IPY_MODEL_25161e784b9f49199b43859d5363477e",
            "value": "Downloading metadata: "
          }
        },
        "87c821a7e39b4282850c8ff314caa378": {
          "model_module": "@jupyter-widgets/controls",
          "model_name": "FloatProgressModel",
          "model_module_version": "1.5.0",
          "state": {
            "_dom_classes": [],
            "_model_module": "@jupyter-widgets/controls",
            "_model_module_version": "1.5.0",
            "_model_name": "FloatProgressModel",
            "_view_count": null,
            "_view_module": "@jupyter-widgets/controls",
            "_view_module_version": "1.5.0",
            "_view_name": "ProgressView",
            "bar_style": "success",
            "description": "",
            "description_tooltip": null,
            "layout": "IPY_MODEL_f669e43db6cd40b49f92dea141e31c55",
            "max": 665,
            "min": 0,
            "orientation": "horizontal",
            "style": "IPY_MODEL_733ce945a8114fd48349f884666c57ee",
            "value": 665
          }
        },
        "0b8de1ba3e7343fe9dc7f376ce17600c": {
          "model_module": "@jupyter-widgets/controls",
          "model_name": "HTMLModel",
          "model_module_version": "1.5.0",
          "state": {
            "_dom_classes": [],
            "_model_module": "@jupyter-widgets/controls",
            "_model_module_version": "1.5.0",
            "_model_name": "HTMLModel",
            "_view_count": null,
            "_view_module": "@jupyter-widgets/controls",
            "_view_module_version": "1.5.0",
            "_view_name": "HTMLView",
            "description": "",
            "description_tooltip": null,
            "layout": "IPY_MODEL_63896d9f168847cb8449cdc5a6a4b4c2",
            "placeholder": "​",
            "style": "IPY_MODEL_ca4723a11f4f4aa0a1a4c4ec0df36a2f",
            "value": " 2.94k/? [00:00&lt;00:00, 43.8kB/s]"
          }
        },
        "cfe4f745905a49dfb0aa232e8827ed21": {
          "model_module": "@jupyter-widgets/base",
          "model_name": "LayoutModel",
          "model_module_version": "1.2.0",
          "state": {
            "_model_module": "@jupyter-widgets/base",
            "_model_module_version": "1.2.0",
            "_model_name": "LayoutModel",
            "_view_count": null,
            "_view_module": "@jupyter-widgets/base",
            "_view_module_version": "1.2.0",
            "_view_name": "LayoutView",
            "align_content": null,
            "align_items": null,
            "align_self": null,
            "border": null,
            "bottom": null,
            "display": null,
            "flex": null,
            "flex_flow": null,
            "grid_area": null,
            "grid_auto_columns": null,
            "grid_auto_flow": null,
            "grid_auto_rows": null,
            "grid_column": null,
            "grid_gap": null,
            "grid_row": null,
            "grid_template_areas": null,
            "grid_template_columns": null,
            "grid_template_rows": null,
            "height": null,
            "justify_content": null,
            "justify_items": null,
            "left": null,
            "margin": null,
            "max_height": null,
            "max_width": null,
            "min_height": null,
            "min_width": null,
            "object_fit": null,
            "object_position": null,
            "order": null,
            "overflow": null,
            "overflow_x": null,
            "overflow_y": null,
            "padding": null,
            "right": null,
            "top": null,
            "visibility": null,
            "width": null
          }
        },
        "8a073240a109410482cc779743a18f61": {
          "model_module": "@jupyter-widgets/base",
          "model_name": "LayoutModel",
          "model_module_version": "1.2.0",
          "state": {
            "_model_module": "@jupyter-widgets/base",
            "_model_module_version": "1.2.0",
            "_model_name": "LayoutModel",
            "_view_count": null,
            "_view_module": "@jupyter-widgets/base",
            "_view_module_version": "1.2.0",
            "_view_name": "LayoutView",
            "align_content": null,
            "align_items": null,
            "align_self": null,
            "border": null,
            "bottom": null,
            "display": null,
            "flex": null,
            "flex_flow": null,
            "grid_area": null,
            "grid_auto_columns": null,
            "grid_auto_flow": null,
            "grid_auto_rows": null,
            "grid_column": null,
            "grid_gap": null,
            "grid_row": null,
            "grid_template_areas": null,
            "grid_template_columns": null,
            "grid_template_rows": null,
            "height": null,
            "justify_content": null,
            "justify_items": null,
            "left": null,
            "margin": null,
            "max_height": null,
            "max_width": null,
            "min_height": null,
            "min_width": null,
            "object_fit": null,
            "object_position": null,
            "order": null,
            "overflow": null,
            "overflow_x": null,
            "overflow_y": null,
            "padding": null,
            "right": null,
            "top": null,
            "visibility": null,
            "width": null
          }
        },
        "25161e784b9f49199b43859d5363477e": {
          "model_module": "@jupyter-widgets/controls",
          "model_name": "DescriptionStyleModel",
          "model_module_version": "1.5.0",
          "state": {
            "_model_module": "@jupyter-widgets/controls",
            "_model_module_version": "1.5.0",
            "_model_name": "DescriptionStyleModel",
            "_view_count": null,
            "_view_module": "@jupyter-widgets/base",
            "_view_module_version": "1.2.0",
            "_view_name": "StyleView",
            "description_width": ""
          }
        },
        "f669e43db6cd40b49f92dea141e31c55": {
          "model_module": "@jupyter-widgets/base",
          "model_name": "LayoutModel",
          "model_module_version": "1.2.0",
          "state": {
            "_model_module": "@jupyter-widgets/base",
            "_model_module_version": "1.2.0",
            "_model_name": "LayoutModel",
            "_view_count": null,
            "_view_module": "@jupyter-widgets/base",
            "_view_module_version": "1.2.0",
            "_view_name": "LayoutView",
            "align_content": null,
            "align_items": null,
            "align_self": null,
            "border": null,
            "bottom": null,
            "display": null,
            "flex": null,
            "flex_flow": null,
            "grid_area": null,
            "grid_auto_columns": null,
            "grid_auto_flow": null,
            "grid_auto_rows": null,
            "grid_column": null,
            "grid_gap": null,
            "grid_row": null,
            "grid_template_areas": null,
            "grid_template_columns": null,
            "grid_template_rows": null,
            "height": null,
            "justify_content": null,
            "justify_items": null,
            "left": null,
            "margin": null,
            "max_height": null,
            "max_width": null,
            "min_height": null,
            "min_width": null,
            "object_fit": null,
            "object_position": null,
            "order": null,
            "overflow": null,
            "overflow_x": null,
            "overflow_y": null,
            "padding": null,
            "right": null,
            "top": null,
            "visibility": null,
            "width": null
          }
        },
        "733ce945a8114fd48349f884666c57ee": {
          "model_module": "@jupyter-widgets/controls",
          "model_name": "ProgressStyleModel",
          "model_module_version": "1.5.0",
          "state": {
            "_model_module": "@jupyter-widgets/controls",
            "_model_module_version": "1.5.0",
            "_model_name": "ProgressStyleModel",
            "_view_count": null,
            "_view_module": "@jupyter-widgets/base",
            "_view_module_version": "1.2.0",
            "_view_name": "StyleView",
            "bar_color": null,
            "description_width": ""
          }
        },
        "63896d9f168847cb8449cdc5a6a4b4c2": {
          "model_module": "@jupyter-widgets/base",
          "model_name": "LayoutModel",
          "model_module_version": "1.2.0",
          "state": {
            "_model_module": "@jupyter-widgets/base",
            "_model_module_version": "1.2.0",
            "_model_name": "LayoutModel",
            "_view_count": null,
            "_view_module": "@jupyter-widgets/base",
            "_view_module_version": "1.2.0",
            "_view_name": "LayoutView",
            "align_content": null,
            "align_items": null,
            "align_self": null,
            "border": null,
            "bottom": null,
            "display": null,
            "flex": null,
            "flex_flow": null,
            "grid_area": null,
            "grid_auto_columns": null,
            "grid_auto_flow": null,
            "grid_auto_rows": null,
            "grid_column": null,
            "grid_gap": null,
            "grid_row": null,
            "grid_template_areas": null,
            "grid_template_columns": null,
            "grid_template_rows": null,
            "height": null,
            "justify_content": null,
            "justify_items": null,
            "left": null,
            "margin": null,
            "max_height": null,
            "max_width": null,
            "min_height": null,
            "min_width": null,
            "object_fit": null,
            "object_position": null,
            "order": null,
            "overflow": null,
            "overflow_x": null,
            "overflow_y": null,
            "padding": null,
            "right": null,
            "top": null,
            "visibility": null,
            "width": null
          }
        },
        "ca4723a11f4f4aa0a1a4c4ec0df36a2f": {
          "model_module": "@jupyter-widgets/controls",
          "model_name": "DescriptionStyleModel",
          "model_module_version": "1.5.0",
          "state": {
            "_model_module": "@jupyter-widgets/controls",
            "_model_module_version": "1.5.0",
            "_model_name": "DescriptionStyleModel",
            "_view_count": null,
            "_view_module": "@jupyter-widgets/base",
            "_view_module_version": "1.2.0",
            "_view_name": "StyleView",
            "description_width": ""
          }
        },
        "d608cd095d2b4a679db94b82ae226e48": {
          "model_module": "@jupyter-widgets/controls",
          "model_name": "HBoxModel",
          "model_module_version": "1.5.0",
          "state": {
            "_dom_classes": [],
            "_model_module": "@jupyter-widgets/controls",
            "_model_module_version": "1.5.0",
            "_model_name": "HBoxModel",
            "_view_count": null,
            "_view_module": "@jupyter-widgets/controls",
            "_view_module_version": "1.5.0",
            "_view_name": "HBoxView",
            "box_style": "",
            "children": [
              "IPY_MODEL_2ca3b56edf8c4a3d8bd7884ee2a5763a",
              "IPY_MODEL_ffde3a24ae5c445683ed288fe3580821",
              "IPY_MODEL_02359bcdb0944fd2b627835faf485686"
            ],
            "layout": "IPY_MODEL_57ed745b53624ea69ad13e6bd9defcc7"
          }
        },
        "2ca3b56edf8c4a3d8bd7884ee2a5763a": {
          "model_module": "@jupyter-widgets/controls",
          "model_name": "HTMLModel",
          "model_module_version": "1.5.0",
          "state": {
            "_dom_classes": [],
            "_model_module": "@jupyter-widgets/controls",
            "_model_module_version": "1.5.0",
            "_model_name": "HTMLModel",
            "_view_count": null,
            "_view_module": "@jupyter-widgets/controls",
            "_view_module_version": "1.5.0",
            "_view_name": "HTMLView",
            "description": "",
            "description_tooltip": null,
            "layout": "IPY_MODEL_81b5af3d403a4024bdeb8df415d00f41",
            "placeholder": "​",
            "style": "IPY_MODEL_1e9ec2a4edd34e1aa95684dd28f7ce9e",
            "value": "Downloading data: 100%"
          }
        },
        "ffde3a24ae5c445683ed288fe3580821": {
          "model_module": "@jupyter-widgets/controls",
          "model_name": "FloatProgressModel",
          "model_module_version": "1.5.0",
          "state": {
            "_dom_classes": [],
            "_model_module": "@jupyter-widgets/controls",
            "_model_module_version": "1.5.0",
            "_model_name": "FloatProgressModel",
            "_view_count": null,
            "_view_module": "@jupyter-widgets/controls",
            "_view_module_version": "1.5.0",
            "_view_name": "ProgressView",
            "bar_style": "success",
            "description": "",
            "description_tooltip": null,
            "layout": "IPY_MODEL_550c9b5ac066454f923bafb6a25912d8",
            "max": 671896,
            "min": 0,
            "orientation": "horizontal",
            "style": "IPY_MODEL_00ac50aa2eeb4d848e7492ea32751bda",
            "value": 671896
          }
        },
        "02359bcdb0944fd2b627835faf485686": {
          "model_module": "@jupyter-widgets/controls",
          "model_name": "HTMLModel",
          "model_module_version": "1.5.0",
          "state": {
            "_dom_classes": [],
            "_model_module": "@jupyter-widgets/controls",
            "_model_module_version": "1.5.0",
            "_model_name": "HTMLModel",
            "_view_count": null,
            "_view_module": "@jupyter-widgets/controls",
            "_view_module_version": "1.5.0",
            "_view_name": "HTMLView",
            "description": "",
            "description_tooltip": null,
            "layout": "IPY_MODEL_0f9ef8dbf028454d9ce21ccf7350e929",
            "placeholder": "​",
            "style": "IPY_MODEL_7dd66fb1f4d44176a18d8e30ca15d207",
            "value": " 672k/672k [00:00&lt;00:00, 7.28MB/s]"
          }
        },
        "57ed745b53624ea69ad13e6bd9defcc7": {
          "model_module": "@jupyter-widgets/base",
          "model_name": "LayoutModel",
          "model_module_version": "1.2.0",
          "state": {
            "_model_module": "@jupyter-widgets/base",
            "_model_module_version": "1.2.0",
            "_model_name": "LayoutModel",
            "_view_count": null,
            "_view_module": "@jupyter-widgets/base",
            "_view_module_version": "1.2.0",
            "_view_name": "LayoutView",
            "align_content": null,
            "align_items": null,
            "align_self": null,
            "border": null,
            "bottom": null,
            "display": null,
            "flex": null,
            "flex_flow": null,
            "grid_area": null,
            "grid_auto_columns": null,
            "grid_auto_flow": null,
            "grid_auto_rows": null,
            "grid_column": null,
            "grid_gap": null,
            "grid_row": null,
            "grid_template_areas": null,
            "grid_template_columns": null,
            "grid_template_rows": null,
            "height": null,
            "justify_content": null,
            "justify_items": null,
            "left": null,
            "margin": null,
            "max_height": null,
            "max_width": null,
            "min_height": null,
            "min_width": null,
            "object_fit": null,
            "object_position": null,
            "order": null,
            "overflow": null,
            "overflow_x": null,
            "overflow_y": null,
            "padding": null,
            "right": null,
            "top": null,
            "visibility": null,
            "width": null
          }
        },
        "81b5af3d403a4024bdeb8df415d00f41": {
          "model_module": "@jupyter-widgets/base",
          "model_name": "LayoutModel",
          "model_module_version": "1.2.0",
          "state": {
            "_model_module": "@jupyter-widgets/base",
            "_model_module_version": "1.2.0",
            "_model_name": "LayoutModel",
            "_view_count": null,
            "_view_module": "@jupyter-widgets/base",
            "_view_module_version": "1.2.0",
            "_view_name": "LayoutView",
            "align_content": null,
            "align_items": null,
            "align_self": null,
            "border": null,
            "bottom": null,
            "display": null,
            "flex": null,
            "flex_flow": null,
            "grid_area": null,
            "grid_auto_columns": null,
            "grid_auto_flow": null,
            "grid_auto_rows": null,
            "grid_column": null,
            "grid_gap": null,
            "grid_row": null,
            "grid_template_areas": null,
            "grid_template_columns": null,
            "grid_template_rows": null,
            "height": null,
            "justify_content": null,
            "justify_items": null,
            "left": null,
            "margin": null,
            "max_height": null,
            "max_width": null,
            "min_height": null,
            "min_width": null,
            "object_fit": null,
            "object_position": null,
            "order": null,
            "overflow": null,
            "overflow_x": null,
            "overflow_y": null,
            "padding": null,
            "right": null,
            "top": null,
            "visibility": null,
            "width": null
          }
        },
        "1e9ec2a4edd34e1aa95684dd28f7ce9e": {
          "model_module": "@jupyter-widgets/controls",
          "model_name": "DescriptionStyleModel",
          "model_module_version": "1.5.0",
          "state": {
            "_model_module": "@jupyter-widgets/controls",
            "_model_module_version": "1.5.0",
            "_model_name": "DescriptionStyleModel",
            "_view_count": null,
            "_view_module": "@jupyter-widgets/base",
            "_view_module_version": "1.2.0",
            "_view_name": "StyleView",
            "description_width": ""
          }
        },
        "550c9b5ac066454f923bafb6a25912d8": {
          "model_module": "@jupyter-widgets/base",
          "model_name": "LayoutModel",
          "model_module_version": "1.2.0",
          "state": {
            "_model_module": "@jupyter-widgets/base",
            "_model_module_version": "1.2.0",
            "_model_name": "LayoutModel",
            "_view_count": null,
            "_view_module": "@jupyter-widgets/base",
            "_view_module_version": "1.2.0",
            "_view_name": "LayoutView",
            "align_content": null,
            "align_items": null,
            "align_self": null,
            "border": null,
            "bottom": null,
            "display": null,
            "flex": null,
            "flex_flow": null,
            "grid_area": null,
            "grid_auto_columns": null,
            "grid_auto_flow": null,
            "grid_auto_rows": null,
            "grid_column": null,
            "grid_gap": null,
            "grid_row": null,
            "grid_template_areas": null,
            "grid_template_columns": null,
            "grid_template_rows": null,
            "height": null,
            "justify_content": null,
            "justify_items": null,
            "left": null,
            "margin": null,
            "max_height": null,
            "max_width": null,
            "min_height": null,
            "min_width": null,
            "object_fit": null,
            "object_position": null,
            "order": null,
            "overflow": null,
            "overflow_x": null,
            "overflow_y": null,
            "padding": null,
            "right": null,
            "top": null,
            "visibility": null,
            "width": null
          }
        },
        "00ac50aa2eeb4d848e7492ea32751bda": {
          "model_module": "@jupyter-widgets/controls",
          "model_name": "ProgressStyleModel",
          "model_module_version": "1.5.0",
          "state": {
            "_model_module": "@jupyter-widgets/controls",
            "_model_module_version": "1.5.0",
            "_model_name": "ProgressStyleModel",
            "_view_count": null,
            "_view_module": "@jupyter-widgets/base",
            "_view_module_version": "1.2.0",
            "_view_name": "StyleView",
            "bar_color": null,
            "description_width": ""
          }
        },
        "0f9ef8dbf028454d9ce21ccf7350e929": {
          "model_module": "@jupyter-widgets/base",
          "model_name": "LayoutModel",
          "model_module_version": "1.2.0",
          "state": {
            "_model_module": "@jupyter-widgets/base",
            "_model_module_version": "1.2.0",
            "_model_name": "LayoutModel",
            "_view_count": null,
            "_view_module": "@jupyter-widgets/base",
            "_view_module_version": "1.2.0",
            "_view_name": "LayoutView",
            "align_content": null,
            "align_items": null,
            "align_self": null,
            "border": null,
            "bottom": null,
            "display": null,
            "flex": null,
            "flex_flow": null,
            "grid_area": null,
            "grid_auto_columns": null,
            "grid_auto_flow": null,
            "grid_auto_rows": null,
            "grid_column": null,
            "grid_gap": null,
            "grid_row": null,
            "grid_template_areas": null,
            "grid_template_columns": null,
            "grid_template_rows": null,
            "height": null,
            "justify_content": null,
            "justify_items": null,
            "left": null,
            "margin": null,
            "max_height": null,
            "max_width": null,
            "min_height": null,
            "min_width": null,
            "object_fit": null,
            "object_position": null,
            "order": null,
            "overflow": null,
            "overflow_x": null,
            "overflow_y": null,
            "padding": null,
            "right": null,
            "top": null,
            "visibility": null,
            "width": null
          }
        },
        "7dd66fb1f4d44176a18d8e30ca15d207": {
          "model_module": "@jupyter-widgets/controls",
          "model_name": "DescriptionStyleModel",
          "model_module_version": "1.5.0",
          "state": {
            "_model_module": "@jupyter-widgets/controls",
            "_model_module_version": "1.5.0",
            "_model_name": "DescriptionStyleModel",
            "_view_count": null,
            "_view_module": "@jupyter-widgets/base",
            "_view_module_version": "1.2.0",
            "_view_name": "StyleView",
            "description_width": ""
          }
        },
        "b4fa92b4935e4500975dd6bbc60b37e1": {
          "model_module": "@jupyter-widgets/controls",
          "model_name": "HBoxModel",
          "model_module_version": "1.5.0",
          "state": {
            "_dom_classes": [],
            "_model_module": "@jupyter-widgets/controls",
            "_model_module_version": "1.5.0",
            "_model_name": "HBoxModel",
            "_view_count": null,
            "_view_module": "@jupyter-widgets/controls",
            "_view_module_version": "1.5.0",
            "_view_name": "HBoxView",
            "box_style": "",
            "children": [
              "IPY_MODEL_6fc12e8f207d496595aab4c158ee597c",
              "IPY_MODEL_1490ad7c4ace4977944012a447f9b877",
              "IPY_MODEL_456874bce9184ec1b37724717957b0c7"
            ],
            "layout": "IPY_MODEL_a826e2dc5bf94351b24b6c1c6e5be01c"
          }
        },
        "6fc12e8f207d496595aab4c158ee597c": {
          "model_module": "@jupyter-widgets/controls",
          "model_name": "HTMLModel",
          "model_module_version": "1.5.0",
          "state": {
            "_dom_classes": [],
            "_model_module": "@jupyter-widgets/controls",
            "_model_module_version": "1.5.0",
            "_model_name": "HTMLModel",
            "_view_count": null,
            "_view_module": "@jupyter-widgets/controls",
            "_view_module_version": "1.5.0",
            "_view_name": "HTMLView",
            "description": "",
            "description_tooltip": null,
            "layout": "IPY_MODEL_798e96ae49364ca684fe9a9c7be3914c",
            "placeholder": "​",
            "style": "IPY_MODEL_be677be7f0684e538acf68fc1191c224",
            "value": "Generating train split:  90%"
          }
        },
        "1490ad7c4ace4977944012a447f9b877": {
          "model_module": "@jupyter-widgets/controls",
          "model_name": "FloatProgressModel",
          "model_module_version": "1.5.0",
          "state": {
            "_dom_classes": [],
            "_model_module": "@jupyter-widgets/controls",
            "_model_module_version": "1.5.0",
            "_model_name": "FloatProgressModel",
            "_view_count": null,
            "_view_module": "@jupyter-widgets/controls",
            "_view_module_version": "1.5.0",
            "_view_name": "ProgressView",
            "bar_style": "",
            "description": "",
            "description_tooltip": null,
            "layout": "IPY_MODEL_3d71b0265a804583b40645b2826df20a",
            "max": 5632,
            "min": 0,
            "orientation": "horizontal",
            "style": "IPY_MODEL_975042f570e64fd6bd68df207455798d",
            "value": 5632
          }
        },
        "456874bce9184ec1b37724717957b0c7": {
          "model_module": "@jupyter-widgets/controls",
          "model_name": "HTMLModel",
          "model_module_version": "1.5.0",
          "state": {
            "_dom_classes": [],
            "_model_module": "@jupyter-widgets/controls",
            "_model_module_version": "1.5.0",
            "_model_name": "HTMLModel",
            "_view_count": null,
            "_view_module": "@jupyter-widgets/controls",
            "_view_module_version": "1.5.0",
            "_view_name": "HTMLView",
            "description": "",
            "description_tooltip": null,
            "layout": "IPY_MODEL_85adb48f45e14b8a99d803b1595f9bc4",
            "placeholder": "​",
            "style": "IPY_MODEL_6c0a7c83e2e640ff9c3c1f641831afe6",
            "value": " 5074/5632 [00:00&lt;00:00, 8261.22 examples/s]"
          }
        },
        "a826e2dc5bf94351b24b6c1c6e5be01c": {
          "model_module": "@jupyter-widgets/base",
          "model_name": "LayoutModel",
          "model_module_version": "1.2.0",
          "state": {
            "_model_module": "@jupyter-widgets/base",
            "_model_module_version": "1.2.0",
            "_model_name": "LayoutModel",
            "_view_count": null,
            "_view_module": "@jupyter-widgets/base",
            "_view_module_version": "1.2.0",
            "_view_name": "LayoutView",
            "align_content": null,
            "align_items": null,
            "align_self": null,
            "border": null,
            "bottom": null,
            "display": null,
            "flex": null,
            "flex_flow": null,
            "grid_area": null,
            "grid_auto_columns": null,
            "grid_auto_flow": null,
            "grid_auto_rows": null,
            "grid_column": null,
            "grid_gap": null,
            "grid_row": null,
            "grid_template_areas": null,
            "grid_template_columns": null,
            "grid_template_rows": null,
            "height": null,
            "justify_content": null,
            "justify_items": null,
            "left": null,
            "margin": null,
            "max_height": null,
            "max_width": null,
            "min_height": null,
            "min_width": null,
            "object_fit": null,
            "object_position": null,
            "order": null,
            "overflow": null,
            "overflow_x": null,
            "overflow_y": null,
            "padding": null,
            "right": null,
            "top": null,
            "visibility": null,
            "width": null
          }
        },
        "798e96ae49364ca684fe9a9c7be3914c": {
          "model_module": "@jupyter-widgets/base",
          "model_name": "LayoutModel",
          "model_module_version": "1.2.0",
          "state": {
            "_model_module": "@jupyter-widgets/base",
            "_model_module_version": "1.2.0",
            "_model_name": "LayoutModel",
            "_view_count": null,
            "_view_module": "@jupyter-widgets/base",
            "_view_module_version": "1.2.0",
            "_view_name": "LayoutView",
            "align_content": null,
            "align_items": null,
            "align_self": null,
            "border": null,
            "bottom": null,
            "display": null,
            "flex": null,
            "flex_flow": null,
            "grid_area": null,
            "grid_auto_columns": null,
            "grid_auto_flow": null,
            "grid_auto_rows": null,
            "grid_column": null,
            "grid_gap": null,
            "grid_row": null,
            "grid_template_areas": null,
            "grid_template_columns": null,
            "grid_template_rows": null,
            "height": null,
            "justify_content": null,
            "justify_items": null,
            "left": null,
            "margin": null,
            "max_height": null,
            "max_width": null,
            "min_height": null,
            "min_width": null,
            "object_fit": null,
            "object_position": null,
            "order": null,
            "overflow": null,
            "overflow_x": null,
            "overflow_y": null,
            "padding": null,
            "right": null,
            "top": null,
            "visibility": null,
            "width": null
          }
        },
        "be677be7f0684e538acf68fc1191c224": {
          "model_module": "@jupyter-widgets/controls",
          "model_name": "DescriptionStyleModel",
          "model_module_version": "1.5.0",
          "state": {
            "_model_module": "@jupyter-widgets/controls",
            "_model_module_version": "1.5.0",
            "_model_name": "DescriptionStyleModel",
            "_view_count": null,
            "_view_module": "@jupyter-widgets/base",
            "_view_module_version": "1.2.0",
            "_view_name": "StyleView",
            "description_width": ""
          }
        },
        "3d71b0265a804583b40645b2826df20a": {
          "model_module": "@jupyter-widgets/base",
          "model_name": "LayoutModel",
          "model_module_version": "1.2.0",
          "state": {
            "_model_module": "@jupyter-widgets/base",
            "_model_module_version": "1.2.0",
            "_model_name": "LayoutModel",
            "_view_count": null,
            "_view_module": "@jupyter-widgets/base",
            "_view_module_version": "1.2.0",
            "_view_name": "LayoutView",
            "align_content": null,
            "align_items": null,
            "align_self": null,
            "border": null,
            "bottom": null,
            "display": null,
            "flex": null,
            "flex_flow": null,
            "grid_area": null,
            "grid_auto_columns": null,
            "grid_auto_flow": null,
            "grid_auto_rows": null,
            "grid_column": null,
            "grid_gap": null,
            "grid_row": null,
            "grid_template_areas": null,
            "grid_template_columns": null,
            "grid_template_rows": null,
            "height": null,
            "justify_content": null,
            "justify_items": null,
            "left": null,
            "margin": null,
            "max_height": null,
            "max_width": null,
            "min_height": null,
            "min_width": null,
            "object_fit": null,
            "object_position": null,
            "order": null,
            "overflow": null,
            "overflow_x": null,
            "overflow_y": null,
            "padding": null,
            "right": null,
            "top": null,
            "visibility": null,
            "width": null
          }
        },
        "975042f570e64fd6bd68df207455798d": {
          "model_module": "@jupyter-widgets/controls",
          "model_name": "ProgressStyleModel",
          "model_module_version": "1.5.0",
          "state": {
            "_model_module": "@jupyter-widgets/controls",
            "_model_module_version": "1.5.0",
            "_model_name": "ProgressStyleModel",
            "_view_count": null,
            "_view_module": "@jupyter-widgets/base",
            "_view_module_version": "1.2.0",
            "_view_name": "StyleView",
            "bar_color": null,
            "description_width": ""
          }
        },
        "85adb48f45e14b8a99d803b1595f9bc4": {
          "model_module": "@jupyter-widgets/base",
          "model_name": "LayoutModel",
          "model_module_version": "1.2.0",
          "state": {
            "_model_module": "@jupyter-widgets/base",
            "_model_module_version": "1.2.0",
            "_model_name": "LayoutModel",
            "_view_count": null,
            "_view_module": "@jupyter-widgets/base",
            "_view_module_version": "1.2.0",
            "_view_name": "LayoutView",
            "align_content": null,
            "align_items": null,
            "align_self": null,
            "border": null,
            "bottom": null,
            "display": null,
            "flex": null,
            "flex_flow": null,
            "grid_area": null,
            "grid_auto_columns": null,
            "grid_auto_flow": null,
            "grid_auto_rows": null,
            "grid_column": null,
            "grid_gap": null,
            "grid_row": null,
            "grid_template_areas": null,
            "grid_template_columns": null,
            "grid_template_rows": null,
            "height": null,
            "justify_content": null,
            "justify_items": null,
            "left": null,
            "margin": null,
            "max_height": null,
            "max_width": null,
            "min_height": null,
            "min_width": null,
            "object_fit": null,
            "object_position": null,
            "order": null,
            "overflow": null,
            "overflow_x": null,
            "overflow_y": null,
            "padding": null,
            "right": null,
            "top": null,
            "visibility": null,
            "width": null
          }
        },
        "6c0a7c83e2e640ff9c3c1f641831afe6": {
          "model_module": "@jupyter-widgets/controls",
          "model_name": "DescriptionStyleModel",
          "model_module_version": "1.5.0",
          "state": {
            "_model_module": "@jupyter-widgets/controls",
            "_model_module_version": "1.5.0",
            "_model_name": "DescriptionStyleModel",
            "_view_count": null,
            "_view_module": "@jupyter-widgets/base",
            "_view_module_version": "1.2.0",
            "_view_name": "StyleView",
            "description_width": ""
          }
        },
        "1dd76e4aacb64ea09b1adda35594b62c": {
          "model_module": "@jupyter-widgets/controls",
          "model_name": "HBoxModel",
          "model_module_version": "1.5.0",
          "state": {
            "_dom_classes": [],
            "_model_module": "@jupyter-widgets/controls",
            "_model_module_version": "1.5.0",
            "_model_name": "HBoxModel",
            "_view_count": null,
            "_view_module": "@jupyter-widgets/controls",
            "_view_module_version": "1.5.0",
            "_view_name": "HBoxView",
            "box_style": "",
            "children": [
              "IPY_MODEL_c25df47fec3942faa11a5689a5765470",
              "IPY_MODEL_4bc84ff2f8db4ef38e8dcd7a49815180",
              "IPY_MODEL_541997811aa649ff9a951eabf15e1190"
            ],
            "layout": "IPY_MODEL_252831943a254eee9d467dbdce9399f6"
          }
        },
        "c25df47fec3942faa11a5689a5765470": {
          "model_module": "@jupyter-widgets/controls",
          "model_name": "HTMLModel",
          "model_module_version": "1.5.0",
          "state": {
            "_dom_classes": [],
            "_model_module": "@jupyter-widgets/controls",
            "_model_module_version": "1.5.0",
            "_model_name": "HTMLModel",
            "_view_count": null,
            "_view_module": "@jupyter-widgets/controls",
            "_view_module_version": "1.5.0",
            "_view_name": "HTMLView",
            "description": "",
            "description_tooltip": null,
            "layout": "IPY_MODEL_2fca65aa8ba64b98bd4acd29f582d360",
            "placeholder": "​",
            "style": "IPY_MODEL_5f37adbaeb0f4006b374c78ebb789220",
            "value": "100%"
          }
        },
        "4bc84ff2f8db4ef38e8dcd7a49815180": {
          "model_module": "@jupyter-widgets/controls",
          "model_name": "FloatProgressModel",
          "model_module_version": "1.5.0",
          "state": {
            "_dom_classes": [],
            "_model_module": "@jupyter-widgets/controls",
            "_model_module_version": "1.5.0",
            "_model_name": "FloatProgressModel",
            "_view_count": null,
            "_view_module": "@jupyter-widgets/controls",
            "_view_module_version": "1.5.0",
            "_view_name": "ProgressView",
            "bar_style": "success",
            "description": "",
            "description_tooltip": null,
            "layout": "IPY_MODEL_6153547405c34bc38168c70b7b1be7be",
            "max": 1,
            "min": 0,
            "orientation": "horizontal",
            "style": "IPY_MODEL_2e0677ac0dd848d68ba46289601dd2b8",
            "value": 1
          }
        },
        "541997811aa649ff9a951eabf15e1190": {
          "model_module": "@jupyter-widgets/controls",
          "model_name": "HTMLModel",
          "model_module_version": "1.5.0",
          "state": {
            "_dom_classes": [],
            "_model_module": "@jupyter-widgets/controls",
            "_model_module_version": "1.5.0",
            "_model_name": "HTMLModel",
            "_view_count": null,
            "_view_module": "@jupyter-widgets/controls",
            "_view_module_version": "1.5.0",
            "_view_name": "HTMLView",
            "description": "",
            "description_tooltip": null,
            "layout": "IPY_MODEL_3faab3f9b9c04e0f9e724482147043e6",
            "placeholder": "​",
            "style": "IPY_MODEL_3d77f43e072b414782aca2566e921f7e",
            "value": " 1/1 [00:00&lt;00:00, 20.88it/s]"
          }
        },
        "252831943a254eee9d467dbdce9399f6": {
          "model_module": "@jupyter-widgets/base",
          "model_name": "LayoutModel",
          "model_module_version": "1.2.0",
          "state": {
            "_model_module": "@jupyter-widgets/base",
            "_model_module_version": "1.2.0",
            "_model_name": "LayoutModel",
            "_view_count": null,
            "_view_module": "@jupyter-widgets/base",
            "_view_module_version": "1.2.0",
            "_view_name": "LayoutView",
            "align_content": null,
            "align_items": null,
            "align_self": null,
            "border": null,
            "bottom": null,
            "display": null,
            "flex": null,
            "flex_flow": null,
            "grid_area": null,
            "grid_auto_columns": null,
            "grid_auto_flow": null,
            "grid_auto_rows": null,
            "grid_column": null,
            "grid_gap": null,
            "grid_row": null,
            "grid_template_areas": null,
            "grid_template_columns": null,
            "grid_template_rows": null,
            "height": null,
            "justify_content": null,
            "justify_items": null,
            "left": null,
            "margin": null,
            "max_height": null,
            "max_width": null,
            "min_height": null,
            "min_width": null,
            "object_fit": null,
            "object_position": null,
            "order": null,
            "overflow": null,
            "overflow_x": null,
            "overflow_y": null,
            "padding": null,
            "right": null,
            "top": null,
            "visibility": null,
            "width": null
          }
        },
        "2fca65aa8ba64b98bd4acd29f582d360": {
          "model_module": "@jupyter-widgets/base",
          "model_name": "LayoutModel",
          "model_module_version": "1.2.0",
          "state": {
            "_model_module": "@jupyter-widgets/base",
            "_model_module_version": "1.2.0",
            "_model_name": "LayoutModel",
            "_view_count": null,
            "_view_module": "@jupyter-widgets/base",
            "_view_module_version": "1.2.0",
            "_view_name": "LayoutView",
            "align_content": null,
            "align_items": null,
            "align_self": null,
            "border": null,
            "bottom": null,
            "display": null,
            "flex": null,
            "flex_flow": null,
            "grid_area": null,
            "grid_auto_columns": null,
            "grid_auto_flow": null,
            "grid_auto_rows": null,
            "grid_column": null,
            "grid_gap": null,
            "grid_row": null,
            "grid_template_areas": null,
            "grid_template_columns": null,
            "grid_template_rows": null,
            "height": null,
            "justify_content": null,
            "justify_items": null,
            "left": null,
            "margin": null,
            "max_height": null,
            "max_width": null,
            "min_height": null,
            "min_width": null,
            "object_fit": null,
            "object_position": null,
            "order": null,
            "overflow": null,
            "overflow_x": null,
            "overflow_y": null,
            "padding": null,
            "right": null,
            "top": null,
            "visibility": null,
            "width": null
          }
        },
        "5f37adbaeb0f4006b374c78ebb789220": {
          "model_module": "@jupyter-widgets/controls",
          "model_name": "DescriptionStyleModel",
          "model_module_version": "1.5.0",
          "state": {
            "_model_module": "@jupyter-widgets/controls",
            "_model_module_version": "1.5.0",
            "_model_name": "DescriptionStyleModel",
            "_view_count": null,
            "_view_module": "@jupyter-widgets/base",
            "_view_module_version": "1.2.0",
            "_view_name": "StyleView",
            "description_width": ""
          }
        },
        "6153547405c34bc38168c70b7b1be7be": {
          "model_module": "@jupyter-widgets/base",
          "model_name": "LayoutModel",
          "model_module_version": "1.2.0",
          "state": {
            "_model_module": "@jupyter-widgets/base",
            "_model_module_version": "1.2.0",
            "_model_name": "LayoutModel",
            "_view_count": null,
            "_view_module": "@jupyter-widgets/base",
            "_view_module_version": "1.2.0",
            "_view_name": "LayoutView",
            "align_content": null,
            "align_items": null,
            "align_self": null,
            "border": null,
            "bottom": null,
            "display": null,
            "flex": null,
            "flex_flow": null,
            "grid_area": null,
            "grid_auto_columns": null,
            "grid_auto_flow": null,
            "grid_auto_rows": null,
            "grid_column": null,
            "grid_gap": null,
            "grid_row": null,
            "grid_template_areas": null,
            "grid_template_columns": null,
            "grid_template_rows": null,
            "height": null,
            "justify_content": null,
            "justify_items": null,
            "left": null,
            "margin": null,
            "max_height": null,
            "max_width": null,
            "min_height": null,
            "min_width": null,
            "object_fit": null,
            "object_position": null,
            "order": null,
            "overflow": null,
            "overflow_x": null,
            "overflow_y": null,
            "padding": null,
            "right": null,
            "top": null,
            "visibility": null,
            "width": null
          }
        },
        "2e0677ac0dd848d68ba46289601dd2b8": {
          "model_module": "@jupyter-widgets/controls",
          "model_name": "ProgressStyleModel",
          "model_module_version": "1.5.0",
          "state": {
            "_model_module": "@jupyter-widgets/controls",
            "_model_module_version": "1.5.0",
            "_model_name": "ProgressStyleModel",
            "_view_count": null,
            "_view_module": "@jupyter-widgets/base",
            "_view_module_version": "1.2.0",
            "_view_name": "StyleView",
            "bar_color": null,
            "description_width": ""
          }
        },
        "3faab3f9b9c04e0f9e724482147043e6": {
          "model_module": "@jupyter-widgets/base",
          "model_name": "LayoutModel",
          "model_module_version": "1.2.0",
          "state": {
            "_model_module": "@jupyter-widgets/base",
            "_model_module_version": "1.2.0",
            "_model_name": "LayoutModel",
            "_view_count": null,
            "_view_module": "@jupyter-widgets/base",
            "_view_module_version": "1.2.0",
            "_view_name": "LayoutView",
            "align_content": null,
            "align_items": null,
            "align_self": null,
            "border": null,
            "bottom": null,
            "display": null,
            "flex": null,
            "flex_flow": null,
            "grid_area": null,
            "grid_auto_columns": null,
            "grid_auto_flow": null,
            "grid_auto_rows": null,
            "grid_column": null,
            "grid_gap": null,
            "grid_row": null,
            "grid_template_areas": null,
            "grid_template_columns": null,
            "grid_template_rows": null,
            "height": null,
            "justify_content": null,
            "justify_items": null,
            "left": null,
            "margin": null,
            "max_height": null,
            "max_width": null,
            "min_height": null,
            "min_width": null,
            "object_fit": null,
            "object_position": null,
            "order": null,
            "overflow": null,
            "overflow_x": null,
            "overflow_y": null,
            "padding": null,
            "right": null,
            "top": null,
            "visibility": null,
            "width": null
          }
        },
        "3d77f43e072b414782aca2566e921f7e": {
          "model_module": "@jupyter-widgets/controls",
          "model_name": "DescriptionStyleModel",
          "model_module_version": "1.5.0",
          "state": {
            "_model_module": "@jupyter-widgets/controls",
            "_model_module_version": "1.5.0",
            "_model_name": "DescriptionStyleModel",
            "_view_count": null,
            "_view_module": "@jupyter-widgets/base",
            "_view_module_version": "1.2.0",
            "_view_name": "StyleView",
            "description_width": ""
          }
        }
      }
    }
  },
  "cells": [
    {
      "cell_type": "markdown",
      "metadata": {
        "id": "view-in-github",
        "colab_type": "text"
      },
      "source": [
        "<a href=\"https://colab.research.google.com/github/carinebardawil/Fake_News/blob/main/Fake_News_Detection.ipynb\" target=\"_parent\"><img src=\"https://colab.research.google.com/assets/colab-badge.svg\" alt=\"Open In Colab\"/></a>"
      ]
    },
    {
      "cell_type": "markdown",
      "source": [
        "**Problem Statement:** we wish to detect whether a certain text is fake or real news.\n",
        "\n",
        "---\n",
        "\n",
        "\n",
        "**Dataset:** we are given a labelled dataset of news articles.\n",
        "\n",
        "---\n",
        "\n",
        "\n",
        "**Solution:** Use a supervised machine learning algorithm to train an NLP model that performs binary classification on text, mainly distinguishing between 2 classes (FAKE, REAL).\n",
        "\n",
        "---\n",
        "\n",
        "\n",
        "**Summary of the Approach:** Start by inspecting the data set, perform EDA, cleaning, preprocessing and any necessary data transformation technique. Next, proceed with training at least two models, evaluate models, finally use the selected model for inference. \n",
        "\n",
        "---\n",
        "\n",
        "\n",
        "\n",
        "\n",
        "\n",
        "\n"
      ],
      "metadata": {
        "id": "m3nsCRfnYOsq"
      }
    },
    {
      "cell_type": "markdown",
      "source": [
        "# Exploring and Manipulating 'Review_Rating' Column"
      ],
      "metadata": {
        "id": "N4fXg4yVlcO4"
      }
    },
    {
      "cell_type": "code",
      "source": [
        "# install datasets\n",
        "!pip install datasets"
      ],
      "metadata": {
        "colab": {
          "base_uri": "https://localhost:8080/"
        },
        "id": "euF-sQfzPYBy",
        "outputId": "3987b625-9d90-453c-e50d-46ba0ca1e51f"
      },
      "execution_count": 1,
      "outputs": [
        {
          "output_type": "stream",
          "name": "stdout",
          "text": [
            "Looking in indexes: https://pypi.org/simple, https://us-python.pkg.dev/colab-wheels/public/simple/\n",
            "Collecting datasets\n",
            "  Downloading datasets-2.3.2-py3-none-any.whl (362 kB)\n",
            "\u001b[K     |████████████████████████████████| 362 kB 16.3 MB/s \n",
            "\u001b[?25hRequirement already satisfied: importlib-metadata in /usr/local/lib/python3.7/dist-packages (from datasets) (4.12.0)\n",
            "Requirement already satisfied: numpy>=1.17 in /usr/local/lib/python3.7/dist-packages (from datasets) (1.21.6)\n",
            "Requirement already satisfied: dill<0.3.6 in /usr/local/lib/python3.7/dist-packages (from datasets) (0.3.5.1)\n",
            "Requirement already satisfied: pandas in /usr/local/lib/python3.7/dist-packages (from datasets) (1.3.5)\n",
            "Collecting fsspec[http]>=2021.05.0\n",
            "  Downloading fsspec-2022.5.0-py3-none-any.whl (140 kB)\n",
            "\u001b[K     |████████████████████████████████| 140 kB 38.1 MB/s \n",
            "\u001b[?25hCollecting aiohttp\n",
            "  Downloading aiohttp-3.8.1-cp37-cp37m-manylinux_2_5_x86_64.manylinux1_x86_64.manylinux_2_12_x86_64.manylinux2010_x86_64.whl (1.1 MB)\n",
            "\u001b[K     |████████████████████████████████| 1.1 MB 39.0 MB/s \n",
            "\u001b[?25hRequirement already satisfied: tqdm>=4.62.1 in /usr/local/lib/python3.7/dist-packages (from datasets) (4.64.0)\n",
            "Collecting responses<0.19\n",
            "  Downloading responses-0.18.0-py3-none-any.whl (38 kB)\n",
            "Requirement already satisfied: pyarrow>=6.0.0 in /usr/local/lib/python3.7/dist-packages (from datasets) (6.0.1)\n",
            "Requirement already satisfied: packaging in /usr/local/lib/python3.7/dist-packages (from datasets) (21.3)\n",
            "Requirement already satisfied: requests>=2.19.0 in /usr/local/lib/python3.7/dist-packages (from datasets) (2.23.0)\n",
            "Collecting xxhash\n",
            "  Downloading xxhash-3.0.0-cp37-cp37m-manylinux_2_17_x86_64.manylinux2014_x86_64.whl (212 kB)\n",
            "\u001b[K     |████████████████████████████████| 212 kB 24.0 MB/s \n",
            "\u001b[?25hRequirement already satisfied: multiprocess in /usr/local/lib/python3.7/dist-packages (from datasets) (0.70.13)\n",
            "Collecting huggingface-hub<1.0.0,>=0.1.0\n",
            "  Downloading huggingface_hub-0.8.1-py3-none-any.whl (101 kB)\n",
            "\u001b[K     |████████████████████████████████| 101 kB 10.9 MB/s \n",
            "\u001b[?25hRequirement already satisfied: filelock in /usr/local/lib/python3.7/dist-packages (from huggingface-hub<1.0.0,>=0.1.0->datasets) (3.7.1)\n",
            "Requirement already satisfied: typing-extensions>=3.7.4.3 in /usr/local/lib/python3.7/dist-packages (from huggingface-hub<1.0.0,>=0.1.0->datasets) (4.1.1)\n",
            "Collecting pyyaml>=5.1\n",
            "  Downloading PyYAML-6.0-cp37-cp37m-manylinux_2_5_x86_64.manylinux1_x86_64.manylinux_2_12_x86_64.manylinux2010_x86_64.whl (596 kB)\n",
            "\u001b[K     |████████████████████████████████| 596 kB 45.6 MB/s \n",
            "\u001b[?25hRequirement already satisfied: pyparsing!=3.0.5,>=2.0.2 in /usr/local/lib/python3.7/dist-packages (from packaging->datasets) (3.0.9)\n",
            "Requirement already satisfied: urllib3!=1.25.0,!=1.25.1,<1.26,>=1.21.1 in /usr/local/lib/python3.7/dist-packages (from requests>=2.19.0->datasets) (1.24.3)\n",
            "Requirement already satisfied: certifi>=2017.4.17 in /usr/local/lib/python3.7/dist-packages (from requests>=2.19.0->datasets) (2022.6.15)\n",
            "Requirement already satisfied: idna<3,>=2.5 in /usr/local/lib/python3.7/dist-packages (from requests>=2.19.0->datasets) (2.10)\n",
            "Requirement already satisfied: chardet<4,>=3.0.2 in /usr/local/lib/python3.7/dist-packages (from requests>=2.19.0->datasets) (3.0.4)\n",
            "Collecting urllib3!=1.25.0,!=1.25.1,<1.26,>=1.21.1\n",
            "  Downloading urllib3-1.25.11-py2.py3-none-any.whl (127 kB)\n",
            "\u001b[K     |████████████████████████████████| 127 kB 59.1 MB/s \n",
            "\u001b[?25hRequirement already satisfied: attrs>=17.3.0 in /usr/local/lib/python3.7/dist-packages (from aiohttp->datasets) (21.4.0)\n",
            "Collecting aiosignal>=1.1.2\n",
            "  Downloading aiosignal-1.2.0-py3-none-any.whl (8.2 kB)\n",
            "Requirement already satisfied: charset-normalizer<3.0,>=2.0 in /usr/local/lib/python3.7/dist-packages (from aiohttp->datasets) (2.1.0)\n",
            "Collecting asynctest==0.13.0\n",
            "  Downloading asynctest-0.13.0-py3-none-any.whl (26 kB)\n",
            "Collecting frozenlist>=1.1.1\n",
            "  Downloading frozenlist-1.3.0-cp37-cp37m-manylinux_2_5_x86_64.manylinux1_x86_64.manylinux_2_17_x86_64.manylinux2014_x86_64.whl (144 kB)\n",
            "\u001b[K     |████████████████████████████████| 144 kB 47.3 MB/s \n",
            "\u001b[?25hCollecting yarl<2.0,>=1.0\n",
            "  Downloading yarl-1.7.2-cp37-cp37m-manylinux_2_5_x86_64.manylinux1_x86_64.manylinux_2_12_x86_64.manylinux2010_x86_64.whl (271 kB)\n",
            "\u001b[K     |████████████████████████████████| 271 kB 69.4 MB/s \n",
            "\u001b[?25hCollecting multidict<7.0,>=4.5\n",
            "  Downloading multidict-6.0.2-cp37-cp37m-manylinux_2_17_x86_64.manylinux2014_x86_64.whl (94 kB)\n",
            "\u001b[K     |████████████████████████████████| 94 kB 3.3 MB/s \n",
            "\u001b[?25hCollecting async-timeout<5.0,>=4.0.0a3\n",
            "  Downloading async_timeout-4.0.2-py3-none-any.whl (5.8 kB)\n",
            "Requirement already satisfied: zipp>=0.5 in /usr/local/lib/python3.7/dist-packages (from importlib-metadata->datasets) (3.8.1)\n",
            "Requirement already satisfied: python-dateutil>=2.7.3 in /usr/local/lib/python3.7/dist-packages (from pandas->datasets) (2.8.2)\n",
            "Requirement already satisfied: pytz>=2017.3 in /usr/local/lib/python3.7/dist-packages (from pandas->datasets) (2022.1)\n",
            "Requirement already satisfied: six>=1.5 in /usr/local/lib/python3.7/dist-packages (from python-dateutil>=2.7.3->pandas->datasets) (1.15.0)\n",
            "Installing collected packages: multidict, frozenlist, yarl, urllib3, asynctest, async-timeout, aiosignal, pyyaml, fsspec, aiohttp, xxhash, responses, huggingface-hub, datasets\n",
            "  Attempting uninstall: urllib3\n",
            "    Found existing installation: urllib3 1.24.3\n",
            "    Uninstalling urllib3-1.24.3:\n",
            "      Successfully uninstalled urllib3-1.24.3\n",
            "  Attempting uninstall: pyyaml\n",
            "    Found existing installation: PyYAML 3.13\n",
            "    Uninstalling PyYAML-3.13:\n",
            "      Successfully uninstalled PyYAML-3.13\n",
            "\u001b[31mERROR: pip's dependency resolver does not currently take into account all the packages that are installed. This behaviour is the source of the following dependency conflicts.\n",
            "datascience 0.10.6 requires folium==0.2.1, but you have folium 0.8.3 which is incompatible.\u001b[0m\n",
            "Successfully installed aiohttp-3.8.1 aiosignal-1.2.0 async-timeout-4.0.2 asynctest-0.13.0 datasets-2.3.2 frozenlist-1.3.0 fsspec-2022.5.0 huggingface-hub-0.8.1 multidict-6.0.2 pyyaml-6.0 responses-0.18.0 urllib3-1.25.11 xxhash-3.0.0 yarl-1.7.2\n"
          ]
        }
      ]
    },
    {
      "cell_type": "code",
      "execution_count": 2,
      "metadata": {
        "colab": {
          "base_uri": "https://localhost:8080/",
          "height": 200,
          "referenced_widgets": [
            "79c64219b68c4fe29af181d571ec7b5c",
            "7222cbb753634523a51861ceb49d0f9a",
            "5e0d9a9a42d3416c93abc5ca10709918",
            "0aaf3dd6bc584ad086c864d96bd11b39",
            "bcfb0b94e62340d09da96f86d9b383e9",
            "5067967f4d804f3ab8f4454daf34d692",
            "2d0dcfe2cf7f4865a319968af753816e",
            "3dfcd9654a334fb5926886cff3b18e88",
            "1c356b02df5243298727ed8058f4677e",
            "d8ec0e1044884398ac521e455a32adb7",
            "82c3abf976624d9283e955367e80c4cf",
            "6f3f73197f104729af87d00cbf323448",
            "82ae0c0826104076907fdbb6b23fa134",
            "87c821a7e39b4282850c8ff314caa378",
            "0b8de1ba3e7343fe9dc7f376ce17600c",
            "cfe4f745905a49dfb0aa232e8827ed21",
            "8a073240a109410482cc779743a18f61",
            "25161e784b9f49199b43859d5363477e",
            "f669e43db6cd40b49f92dea141e31c55",
            "733ce945a8114fd48349f884666c57ee",
            "63896d9f168847cb8449cdc5a6a4b4c2",
            "ca4723a11f4f4aa0a1a4c4ec0df36a2f",
            "d608cd095d2b4a679db94b82ae226e48",
            "2ca3b56edf8c4a3d8bd7884ee2a5763a",
            "ffde3a24ae5c445683ed288fe3580821",
            "02359bcdb0944fd2b627835faf485686",
            "57ed745b53624ea69ad13e6bd9defcc7",
            "81b5af3d403a4024bdeb8df415d00f41",
            "1e9ec2a4edd34e1aa95684dd28f7ce9e",
            "550c9b5ac066454f923bafb6a25912d8",
            "00ac50aa2eeb4d848e7492ea32751bda",
            "0f9ef8dbf028454d9ce21ccf7350e929",
            "7dd66fb1f4d44176a18d8e30ca15d207",
            "b4fa92b4935e4500975dd6bbc60b37e1",
            "6fc12e8f207d496595aab4c158ee597c",
            "1490ad7c4ace4977944012a447f9b877",
            "456874bce9184ec1b37724717957b0c7",
            "a826e2dc5bf94351b24b6c1c6e5be01c",
            "798e96ae49364ca684fe9a9c7be3914c",
            "be677be7f0684e538acf68fc1191c224",
            "3d71b0265a804583b40645b2826df20a",
            "975042f570e64fd6bd68df207455798d",
            "85adb48f45e14b8a99d803b1595f9bc4",
            "6c0a7c83e2e640ff9c3c1f641831afe6",
            "1dd76e4aacb64ea09b1adda35594b62c",
            "c25df47fec3942faa11a5689a5765470",
            "4bc84ff2f8db4ef38e8dcd7a49815180",
            "541997811aa649ff9a951eabf15e1190",
            "252831943a254eee9d467dbdce9399f6",
            "2fca65aa8ba64b98bd4acd29f582d360",
            "5f37adbaeb0f4006b374c78ebb789220",
            "6153547405c34bc38168c70b7b1be7be",
            "2e0677ac0dd848d68ba46289601dd2b8",
            "3faab3f9b9c04e0f9e724482147043e6",
            "3d77f43e072b414782aca2566e921f7e"
          ]
        },
        "id": "kEodq807uFQu",
        "outputId": "3aa830ba-2f1d-4313-b8e3-0360a31bd498"
      },
      "outputs": [
        {
          "output_type": "display_data",
          "data": {
            "text/plain": [
              "Downloading builder script:   0%|          | 0.00/1.67k [00:00<?, ?B/s]"
            ],
            "application/vnd.jupyter.widget-view+json": {
              "version_major": 2,
              "version_minor": 0,
              "model_id": "79c64219b68c4fe29af181d571ec7b5c"
            }
          },
          "metadata": {}
        },
        {
          "output_type": "display_data",
          "data": {
            "text/plain": [
              "Downloading metadata:   0%|          | 0.00/665 [00:00<?, ?B/s]"
            ],
            "application/vnd.jupyter.widget-view+json": {
              "version_major": 2,
              "version_minor": 0,
              "model_id": "6f3f73197f104729af87d00cbf323448"
            }
          },
          "metadata": {}
        },
        {
          "output_type": "stream",
          "name": "stdout",
          "text": [
            "Downloading and preparing dataset datacommons_factcheck/fctchk_politifact_wapo (download: 656.15 KiB, generated: 1.69 MiB, post-processed: Unknown size, total: 2.33 MiB) to /root/.cache/huggingface/datasets/datacommons_factcheck/fctchk_politifact_wapo/1.0.0/e3861c84c3e449fb0c316b75997e30bbf723e2ca7f33c668bda07b7436567b35...\n"
          ]
        },
        {
          "output_type": "display_data",
          "data": {
            "text/plain": [
              "Downloading data:   0%|          | 0.00/672k [00:00<?, ?B/s]"
            ],
            "application/vnd.jupyter.widget-view+json": {
              "version_major": 2,
              "version_minor": 0,
              "model_id": "d608cd095d2b4a679db94b82ae226e48"
            }
          },
          "metadata": {}
        },
        {
          "output_type": "display_data",
          "data": {
            "text/plain": [
              "Generating train split:   0%|          | 0/5632 [00:00<?, ? examples/s]"
            ],
            "application/vnd.jupyter.widget-view+json": {
              "version_major": 2,
              "version_minor": 0,
              "model_id": "b4fa92b4935e4500975dd6bbc60b37e1"
            }
          },
          "metadata": {}
        },
        {
          "output_type": "stream",
          "name": "stdout",
          "text": [
            "Dataset datacommons_factcheck downloaded and prepared to /root/.cache/huggingface/datasets/datacommons_factcheck/fctchk_politifact_wapo/1.0.0/e3861c84c3e449fb0c316b75997e30bbf723e2ca7f33c668bda07b7436567b35. Subsequent calls will reuse this data.\n"
          ]
        },
        {
          "output_type": "display_data",
          "data": {
            "text/plain": [
              "  0%|          | 0/1 [00:00<?, ?it/s]"
            ],
            "application/vnd.jupyter.widget-view+json": {
              "version_major": 2,
              "version_minor": 0,
              "model_id": "1dd76e4aacb64ea09b1adda35594b62c"
            }
          },
          "metadata": {}
        }
      ],
      "source": [
        "from datasets import load_dataset\n",
        " \n",
        "dataset = load_dataset(\"datacommons_factcheck\", \"fctchk_politifact_wapo\")"
      ]
    },
    {
      "cell_type": "code",
      "source": [
        "print(dataset)"
      ],
      "metadata": {
        "colab": {
          "base_uri": "https://localhost:8080/"
        },
        "id": "YN7JEo9MPrWS",
        "outputId": "c2415d64-ccda-45bf-c2a6-677b97b0c232"
      },
      "execution_count": 3,
      "outputs": [
        {
          "output_type": "stream",
          "name": "stdout",
          "text": [
            "DatasetDict({\n",
            "    train: Dataset({\n",
            "        features: ['reviewer_name', 'claim_text', 'review_date', 'review_url', 'review_rating', 'claim_author_name', 'claim_date'],\n",
            "        num_rows: 5632\n",
            "    })\n",
            "})\n"
          ]
        }
      ]
    },
    {
      "cell_type": "code",
      "source": [
        "import pandas as pd\n",
        "import numpy as np\n",
        "import matplotlib as pyplot\n",
        "import matplotlib.pyplot as plt\n",
        "import seaborn as sns"
      ],
      "metadata": {
        "id": "FAFfdkmxSL1a"
      },
      "execution_count": 40,
      "outputs": []
    },
    {
      "cell_type": "code",
      "source": [
        "#transform the nested dictionary into a dataframe\n",
        "df=pd.DataFrame.from_dict(dataset['train'])"
      ],
      "metadata": {
        "id": "TsIGvYmxR1O1"
      },
      "execution_count": 70,
      "outputs": []
    },
    {
      "cell_type": "code",
      "source": [
        "#inspecting the dataframe\n",
        "df.info()\n",
        "shape=df.shape\n",
        "print('The number of rows is', shape[0],'the number of columns is', shape[1])"
      ],
      "metadata": {
        "colab": {
          "base_uri": "https://localhost:8080/"
        },
        "id": "P80633m2R0up",
        "outputId": "6a25974c-a396-4af9-ed48-14cd6a54c113"
      },
      "execution_count": 21,
      "outputs": [
        {
          "output_type": "stream",
          "name": "stdout",
          "text": [
            "<class 'pandas.core.frame.DataFrame'>\n",
            "RangeIndex: 5632 entries, 0 to 5631\n",
            "Data columns (total 7 columns):\n",
            " #   Column             Non-Null Count  Dtype \n",
            "---  ------             --------------  ----- \n",
            " 0   reviewer_name      5632 non-null   object\n",
            " 1   claim_text         5632 non-null   object\n",
            " 2   review_date        5632 non-null   object\n",
            " 3   review_url         5632 non-null   object\n",
            " 4   review_rating      5632 non-null   object\n",
            " 5   claim_author_name  5632 non-null   object\n",
            " 6   claim_date         5632 non-null   object\n",
            "dtypes: object(7)\n",
            "memory usage: 308.1+ KB\n",
            "The number of rows is 5632 the number of columns is 7\n"
          ]
        }
      ]
    },
    {
      "cell_type": "code",
      "source": [
        "df.head()"
      ],
      "metadata": {
        "colab": {
          "base_uri": "https://localhost:8080/",
          "height": 206
        },
        "id": "qJTMrbAJXvjo",
        "outputId": "7943f809-74f9-4bce-fc9c-cb59d9d9a6e5"
      },
      "execution_count": 18,
      "outputs": [
        {
          "output_type": "execute_result",
          "data": {
            "text/plain": [
              "   reviewer_name                                         claim_text  \\\n",
              "0     PolitiFact  Quotes Michelle Obama as saying, \"White folks ...   \n",
              "1     PolitiFact  Says Facebook shut down a \"Chick-Fil-A Appreci...   \n",
              "2     PolitiFact  \"We haven’t given up anything other than … I a...   \n",
              "3  FactCheck.org  \"BREAKING: 2 Democrat Congressmen On ISIS Payr...   \n",
              "4     PolitiFact  The \"Dallas Cowboys can’t put a sticker on the...   \n",
              "\n",
              "  review_date                                         review_url  \\\n",
              "0  2019-01-03  https://www.politifact.com/facebook-fact-check...   \n",
              "1  2018-04-23  https://www.politifact.com/texas/statements/20...   \n",
              "2  2018-06-12  http://www.politifact.com/truth-o-meter/articl...   \n",
              "3  2017-10-26  https://www.factcheck.org/2017/10/no-isis-arre...   \n",
              "4  2016-09-01  https://www.politifact.com/texas/statements/20...   \n",
              "\n",
              "               review_rating claim_author_name  claim_date  \n",
              "0              Pants on Fire    Facebook posts  2019-01-01  \n",
              "1                  Half True          Ted Cruz  2018-04-11  \n",
              "2  Will military drills end?      Donald Trump  2018-06-12  \n",
              "3                      False  Various websites  2017-09-03  \n",
              "4                       True       James Woods  2016-08-27  "
            ],
            "text/html": [
              "\n",
              "  <div id=\"df-9724843a-7301-42a3-8c06-3116b1eb8364\">\n",
              "    <div class=\"colab-df-container\">\n",
              "      <div>\n",
              "<style scoped>\n",
              "    .dataframe tbody tr th:only-of-type {\n",
              "        vertical-align: middle;\n",
              "    }\n",
              "\n",
              "    .dataframe tbody tr th {\n",
              "        vertical-align: top;\n",
              "    }\n",
              "\n",
              "    .dataframe thead th {\n",
              "        text-align: right;\n",
              "    }\n",
              "</style>\n",
              "<table border=\"1\" class=\"dataframe\">\n",
              "  <thead>\n",
              "    <tr style=\"text-align: right;\">\n",
              "      <th></th>\n",
              "      <th>reviewer_name</th>\n",
              "      <th>claim_text</th>\n",
              "      <th>review_date</th>\n",
              "      <th>review_url</th>\n",
              "      <th>review_rating</th>\n",
              "      <th>claim_author_name</th>\n",
              "      <th>claim_date</th>\n",
              "    </tr>\n",
              "  </thead>\n",
              "  <tbody>\n",
              "    <tr>\n",
              "      <th>0</th>\n",
              "      <td>PolitiFact</td>\n",
              "      <td>Quotes Michelle Obama as saying, \"White folks ...</td>\n",
              "      <td>2019-01-03</td>\n",
              "      <td>https://www.politifact.com/facebook-fact-check...</td>\n",
              "      <td>Pants on Fire</td>\n",
              "      <td>Facebook posts</td>\n",
              "      <td>2019-01-01</td>\n",
              "    </tr>\n",
              "    <tr>\n",
              "      <th>1</th>\n",
              "      <td>PolitiFact</td>\n",
              "      <td>Says Facebook shut down a \"Chick-Fil-A Appreci...</td>\n",
              "      <td>2018-04-23</td>\n",
              "      <td>https://www.politifact.com/texas/statements/20...</td>\n",
              "      <td>Half True</td>\n",
              "      <td>Ted Cruz</td>\n",
              "      <td>2018-04-11</td>\n",
              "    </tr>\n",
              "    <tr>\n",
              "      <th>2</th>\n",
              "      <td>PolitiFact</td>\n",
              "      <td>\"We haven’t given up anything other than … I a...</td>\n",
              "      <td>2018-06-12</td>\n",
              "      <td>http://www.politifact.com/truth-o-meter/articl...</td>\n",
              "      <td>Will military drills end?</td>\n",
              "      <td>Donald Trump</td>\n",
              "      <td>2018-06-12</td>\n",
              "    </tr>\n",
              "    <tr>\n",
              "      <th>3</th>\n",
              "      <td>FactCheck.org</td>\n",
              "      <td>\"BREAKING: 2 Democrat Congressmen On ISIS Payr...</td>\n",
              "      <td>2017-10-26</td>\n",
              "      <td>https://www.factcheck.org/2017/10/no-isis-arre...</td>\n",
              "      <td>False</td>\n",
              "      <td>Various websites</td>\n",
              "      <td>2017-09-03</td>\n",
              "    </tr>\n",
              "    <tr>\n",
              "      <th>4</th>\n",
              "      <td>PolitiFact</td>\n",
              "      <td>The \"Dallas Cowboys can’t put a sticker on the...</td>\n",
              "      <td>2016-09-01</td>\n",
              "      <td>https://www.politifact.com/texas/statements/20...</td>\n",
              "      <td>True</td>\n",
              "      <td>James Woods</td>\n",
              "      <td>2016-08-27</td>\n",
              "    </tr>\n",
              "  </tbody>\n",
              "</table>\n",
              "</div>\n",
              "      <button class=\"colab-df-convert\" onclick=\"convertToInteractive('df-9724843a-7301-42a3-8c06-3116b1eb8364')\"\n",
              "              title=\"Convert this dataframe to an interactive table.\"\n",
              "              style=\"display:none;\">\n",
              "        \n",
              "  <svg xmlns=\"http://www.w3.org/2000/svg\" height=\"24px\"viewBox=\"0 0 24 24\"\n",
              "       width=\"24px\">\n",
              "    <path d=\"M0 0h24v24H0V0z\" fill=\"none\"/>\n",
              "    <path d=\"M18.56 5.44l.94 2.06.94-2.06 2.06-.94-2.06-.94-.94-2.06-.94 2.06-2.06.94zm-11 1L8.5 8.5l.94-2.06 2.06-.94-2.06-.94L8.5 2.5l-.94 2.06-2.06.94zm10 10l.94 2.06.94-2.06 2.06-.94-2.06-.94-.94-2.06-.94 2.06-2.06.94z\"/><path d=\"M17.41 7.96l-1.37-1.37c-.4-.4-.92-.59-1.43-.59-.52 0-1.04.2-1.43.59L10.3 9.45l-7.72 7.72c-.78.78-.78 2.05 0 2.83L4 21.41c.39.39.9.59 1.41.59.51 0 1.02-.2 1.41-.59l7.78-7.78 2.81-2.81c.8-.78.8-2.07 0-2.86zM5.41 20L4 18.59l7.72-7.72 1.47 1.35L5.41 20z\"/>\n",
              "  </svg>\n",
              "      </button>\n",
              "      \n",
              "  <style>\n",
              "    .colab-df-container {\n",
              "      display:flex;\n",
              "      flex-wrap:wrap;\n",
              "      gap: 12px;\n",
              "    }\n",
              "\n",
              "    .colab-df-convert {\n",
              "      background-color: #E8F0FE;\n",
              "      border: none;\n",
              "      border-radius: 50%;\n",
              "      cursor: pointer;\n",
              "      display: none;\n",
              "      fill: #1967D2;\n",
              "      height: 32px;\n",
              "      padding: 0 0 0 0;\n",
              "      width: 32px;\n",
              "    }\n",
              "\n",
              "    .colab-df-convert:hover {\n",
              "      background-color: #E2EBFA;\n",
              "      box-shadow: 0px 1px 2px rgba(60, 64, 67, 0.3), 0px 1px 3px 1px rgba(60, 64, 67, 0.15);\n",
              "      fill: #174EA6;\n",
              "    }\n",
              "\n",
              "    [theme=dark] .colab-df-convert {\n",
              "      background-color: #3B4455;\n",
              "      fill: #D2E3FC;\n",
              "    }\n",
              "\n",
              "    [theme=dark] .colab-df-convert:hover {\n",
              "      background-color: #434B5C;\n",
              "      box-shadow: 0px 1px 3px 1px rgba(0, 0, 0, 0.15);\n",
              "      filter: drop-shadow(0px 1px 2px rgba(0, 0, 0, 0.3));\n",
              "      fill: #FFFFFF;\n",
              "    }\n",
              "  </style>\n",
              "\n",
              "      <script>\n",
              "        const buttonEl =\n",
              "          document.querySelector('#df-9724843a-7301-42a3-8c06-3116b1eb8364 button.colab-df-convert');\n",
              "        buttonEl.style.display =\n",
              "          google.colab.kernel.accessAllowed ? 'block' : 'none';\n",
              "\n",
              "        async function convertToInteractive(key) {\n",
              "          const element = document.querySelector('#df-9724843a-7301-42a3-8c06-3116b1eb8364');\n",
              "          const dataTable =\n",
              "            await google.colab.kernel.invokeFunction('convertToInteractive',\n",
              "                                                     [key], {});\n",
              "          if (!dataTable) return;\n",
              "\n",
              "          const docLinkHtml = 'Like what you see? Visit the ' +\n",
              "            '<a target=\"_blank\" href=https://colab.research.google.com/notebooks/data_table.ipynb>data table notebook</a>'\n",
              "            + ' to learn more about interactive tables.';\n",
              "          element.innerHTML = '';\n",
              "          dataTable['output_type'] = 'display_data';\n",
              "          await google.colab.output.renderOutput(dataTable, element);\n",
              "          const docLink = document.createElement('div');\n",
              "          docLink.innerHTML = docLinkHtml;\n",
              "          element.appendChild(docLink);\n",
              "        }\n",
              "      </script>\n",
              "    </div>\n",
              "  </div>\n",
              "  "
            ]
          },
          "metadata": {},
          "execution_count": 18
        }
      ]
    },
    {
      "cell_type": "markdown",
      "source": [
        "Initial inspection of the dataframe indicates that there exists several classes in the review_rating column, before dropping any valuable info, let us try to understand how these labels are distributed across the dataset. "
      ],
      "metadata": {
        "id": "clnsRNz0YBFj"
      }
    },
    {
      "cell_type": "code",
      "source": [
        "#Let us start by looking into the unique counts of classes in review_rating:\n",
        "classes=df['review_rating'].value_counts()\n",
        "print(classes)"
      ],
      "metadata": {
        "colab": {
          "base_uri": "https://localhost:8080/"
        },
        "id": "F0WwQsUiX-wh",
        "outputId": "309bfaaa-21a8-4b6a-8ffa-1a68d88e809c"
      },
      "execution_count": 25,
      "outputs": [
        {
          "output_type": "stream",
          "name": "stdout",
          "text": [
            "False                        1304\n",
            "Mostly False                  671\n",
            "Pants on Fire                 666\n",
            "Half True                     645\n",
            "Mostly True                   594\n",
            "                             ... \n",
            "Key checks continue             1\n",
            "History poses big hurdle        1\n",
            "Lacks evidence                  1\n",
            "Debunked by Snopes              1\n",
            "Voice Analyst: It's Trump       1\n",
            "Name: review_rating, Length: 391, dtype: int64\n"
          ]
        }
      ]
    },
    {
      "cell_type": "markdown",
      "source": [
        "We have a total of 391 labels/classes."
      ],
      "metadata": {
        "id": "k0iYs0ljdcNh"
      }
    },
    {
      "cell_type": "code",
      "source": [
        "#transform the series describing unique counts of classes/labels into a dataframe for convenience (visualization + statistics)\n",
        "df_classes=classes.to_frame()"
      ],
      "metadata": {
        "id": "Uvr80epQeSTM"
      },
      "execution_count": 28,
      "outputs": []
    },
    {
      "cell_type": "code",
      "source": [
        "df_classes.describe()"
      ],
      "metadata": {
        "colab": {
          "base_uri": "https://localhost:8080/",
          "height": 300
        },
        "id": "zn4u26pMg-aW",
        "outputId": "b030171c-6a06-413b-d76b-3b26d97dad6d"
      },
      "execution_count": 36,
      "outputs": [
        {
          "output_type": "execute_result",
          "data": {
            "text/plain": [
              "       review_rating\n",
              "count     391.000000\n",
              "mean       14.404092\n",
              "std        94.952298\n",
              "min         1.000000\n",
              "25%         1.000000\n",
              "50%         1.000000\n",
              "75%         1.000000\n",
              "max      1304.000000"
            ],
            "text/html": [
              "\n",
              "  <div id=\"df-3a3fcbbc-57cc-4289-83c3-ed18ed587d6e\">\n",
              "    <div class=\"colab-df-container\">\n",
              "      <div>\n",
              "<style scoped>\n",
              "    .dataframe tbody tr th:only-of-type {\n",
              "        vertical-align: middle;\n",
              "    }\n",
              "\n",
              "    .dataframe tbody tr th {\n",
              "        vertical-align: top;\n",
              "    }\n",
              "\n",
              "    .dataframe thead th {\n",
              "        text-align: right;\n",
              "    }\n",
              "</style>\n",
              "<table border=\"1\" class=\"dataframe\">\n",
              "  <thead>\n",
              "    <tr style=\"text-align: right;\">\n",
              "      <th></th>\n",
              "      <th>review_rating</th>\n",
              "    </tr>\n",
              "  </thead>\n",
              "  <tbody>\n",
              "    <tr>\n",
              "      <th>count</th>\n",
              "      <td>391.000000</td>\n",
              "    </tr>\n",
              "    <tr>\n",
              "      <th>mean</th>\n",
              "      <td>14.404092</td>\n",
              "    </tr>\n",
              "    <tr>\n",
              "      <th>std</th>\n",
              "      <td>94.952298</td>\n",
              "    </tr>\n",
              "    <tr>\n",
              "      <th>min</th>\n",
              "      <td>1.000000</td>\n",
              "    </tr>\n",
              "    <tr>\n",
              "      <th>25%</th>\n",
              "      <td>1.000000</td>\n",
              "    </tr>\n",
              "    <tr>\n",
              "      <th>50%</th>\n",
              "      <td>1.000000</td>\n",
              "    </tr>\n",
              "    <tr>\n",
              "      <th>75%</th>\n",
              "      <td>1.000000</td>\n",
              "    </tr>\n",
              "    <tr>\n",
              "      <th>max</th>\n",
              "      <td>1304.000000</td>\n",
              "    </tr>\n",
              "  </tbody>\n",
              "</table>\n",
              "</div>\n",
              "      <button class=\"colab-df-convert\" onclick=\"convertToInteractive('df-3a3fcbbc-57cc-4289-83c3-ed18ed587d6e')\"\n",
              "              title=\"Convert this dataframe to an interactive table.\"\n",
              "              style=\"display:none;\">\n",
              "        \n",
              "  <svg xmlns=\"http://www.w3.org/2000/svg\" height=\"24px\"viewBox=\"0 0 24 24\"\n",
              "       width=\"24px\">\n",
              "    <path d=\"M0 0h24v24H0V0z\" fill=\"none\"/>\n",
              "    <path d=\"M18.56 5.44l.94 2.06.94-2.06 2.06-.94-2.06-.94-.94-2.06-.94 2.06-2.06.94zm-11 1L8.5 8.5l.94-2.06 2.06-.94-2.06-.94L8.5 2.5l-.94 2.06-2.06.94zm10 10l.94 2.06.94-2.06 2.06-.94-2.06-.94-.94-2.06-.94 2.06-2.06.94z\"/><path d=\"M17.41 7.96l-1.37-1.37c-.4-.4-.92-.59-1.43-.59-.52 0-1.04.2-1.43.59L10.3 9.45l-7.72 7.72c-.78.78-.78 2.05 0 2.83L4 21.41c.39.39.9.59 1.41.59.51 0 1.02-.2 1.41-.59l7.78-7.78 2.81-2.81c.8-.78.8-2.07 0-2.86zM5.41 20L4 18.59l7.72-7.72 1.47 1.35L5.41 20z\"/>\n",
              "  </svg>\n",
              "      </button>\n",
              "      \n",
              "  <style>\n",
              "    .colab-df-container {\n",
              "      display:flex;\n",
              "      flex-wrap:wrap;\n",
              "      gap: 12px;\n",
              "    }\n",
              "\n",
              "    .colab-df-convert {\n",
              "      background-color: #E8F0FE;\n",
              "      border: none;\n",
              "      border-radius: 50%;\n",
              "      cursor: pointer;\n",
              "      display: none;\n",
              "      fill: #1967D2;\n",
              "      height: 32px;\n",
              "      padding: 0 0 0 0;\n",
              "      width: 32px;\n",
              "    }\n",
              "\n",
              "    .colab-df-convert:hover {\n",
              "      background-color: #E2EBFA;\n",
              "      box-shadow: 0px 1px 2px rgba(60, 64, 67, 0.3), 0px 1px 3px 1px rgba(60, 64, 67, 0.15);\n",
              "      fill: #174EA6;\n",
              "    }\n",
              "\n",
              "    [theme=dark] .colab-df-convert {\n",
              "      background-color: #3B4455;\n",
              "      fill: #D2E3FC;\n",
              "    }\n",
              "\n",
              "    [theme=dark] .colab-df-convert:hover {\n",
              "      background-color: #434B5C;\n",
              "      box-shadow: 0px 1px 3px 1px rgba(0, 0, 0, 0.15);\n",
              "      filter: drop-shadow(0px 1px 2px rgba(0, 0, 0, 0.3));\n",
              "      fill: #FFFFFF;\n",
              "    }\n",
              "  </style>\n",
              "\n",
              "      <script>\n",
              "        const buttonEl =\n",
              "          document.querySelector('#df-3a3fcbbc-57cc-4289-83c3-ed18ed587d6e button.colab-df-convert');\n",
              "        buttonEl.style.display =\n",
              "          google.colab.kernel.accessAllowed ? 'block' : 'none';\n",
              "\n",
              "        async function convertToInteractive(key) {\n",
              "          const element = document.querySelector('#df-3a3fcbbc-57cc-4289-83c3-ed18ed587d6e');\n",
              "          const dataTable =\n",
              "            await google.colab.kernel.invokeFunction('convertToInteractive',\n",
              "                                                     [key], {});\n",
              "          if (!dataTable) return;\n",
              "\n",
              "          const docLinkHtml = 'Like what you see? Visit the ' +\n",
              "            '<a target=\"_blank\" href=https://colab.research.google.com/notebooks/data_table.ipynb>data table notebook</a>'\n",
              "            + ' to learn more about interactive tables.';\n",
              "          element.innerHTML = '';\n",
              "          dataTable['output_type'] = 'display_data';\n",
              "          await google.colab.output.renderOutput(dataTable, element);\n",
              "          const docLink = document.createElement('div');\n",
              "          docLink.innerHTML = docLinkHtml;\n",
              "          element.appendChild(docLink);\n",
              "        }\n",
              "      </script>\n",
              "    </div>\n",
              "  </div>\n",
              "  "
            ]
          },
          "metadata": {},
          "execution_count": 36
        }
      ]
    },
    {
      "cell_type": "markdown",
      "source": [
        "Observation: from the total 391 classes/labels almost 75% of the labels in the dataset occur once! Having a mean of 14.4 which represents on an average each class how much is it occuring? is basically a useless number, specially that the std is almost 95 and the max is 1304. \n",
        "Takeaway: The distribution of the 391 classes (review_rating column) seems to be highly imbalanced, visuals are needed to further validate this observation and to gain some insight onto how we should manipulate the review_rating column."
      ],
      "metadata": {
        "id": "FjCX5gqvjj2-"
      }
    },
    {
      "cell_type": "code",
      "source": [
        "#Box plot\n",
        "plt.boxplot(df_classes['review_rating'])\n",
        "plt.ylabel('Occurence for each unique class')\n",
        "plt.title('Box plot')"
      ],
      "metadata": {
        "colab": {
          "base_uri": "https://localhost:8080/",
          "height": 298
        },
        "id": "_-12J2LYehku",
        "outputId": "aa6794bb-3025-4ea9-ae21-bc9e2f25e36f"
      },
      "execution_count": 35,
      "outputs": [
        {
          "output_type": "execute_result",
          "data": {
            "text/plain": [
              "Text(0.5, 1.0, 'Box plot')"
            ]
          },
          "metadata": {},
          "execution_count": 35
        },
        {
          "output_type": "display_data",
          "data": {
            "text/plain": [
              "<Figure size 432x288 with 1 Axes>"
            ],
            "image/png": "[encoded data removed]"
          },
          "metadata": {
            "needs_background": "light"
          }
        }
      ]
    },
    {
      "cell_type": "markdown",
      "source": [
        "The box plot compliments the observations made in the preceeding code cell, distribution looks HIGHLY skewed to the right, i.e. majority of classes/labeles present in review_rating column are infrequently occuring (their occurence is mainly equal to 1). Also, 25% and 75% quartiles are coinciding with the median. The 'outlier' classes/labels showing in this boxplot corresponding to the newly created dataframe are effectively the dominating labels in the original dataset dataframe with occurences around ~~ [200,400] & [600,800] & 1300."
      ],
      "metadata": {
        "id": "zqS0rATMlKB7"
      }
    },
    {
      "cell_type": "code",
      "source": [
        "#Histogram\n",
        "plt.hist(df_classes['review_rating'], 50) # 50 is the number of bins ~each bin has a length of almost 1300/50=26\n",
        "plt.title('Distribution of the Occurence of unique classes - histogram')\n",
        "plt.show()"
      ],
      "metadata": {
        "colab": {
          "base_uri": "https://localhost:8080/",
          "height": 281
        },
        "id": "hmQdntXwhCvF",
        "outputId": "5e3238f5-c7e6-4f5d-9616-c69e1c8f7f6e"
      },
      "execution_count": 49,
      "outputs": [
        {
          "output_type": "display_data",
          "data": {
            "text/plain": [
              "<Figure size 432x288 with 1 Axes>"
            ],
            "image/png": "[encoded data removed]"
          },
          "metadata": {
            "needs_background": "light"
          }
        }
      ]
    },
    {
      "cell_type": "markdown",
      "source": [
        "By looking at the above histogram, the previously made observations are re-inforced. We are 100% of the right skewness in the distribution of occurences of classes/labels. Classes occuring less than 26 times (first bin in histogram) are in total of almost 375, classes occuring more frequently (almost 200, 300, 600, or 1300 times ~ by checking the X-axis of histogram) are approximately 7-8.\n",
        "\n",
        "\n",
        "---\n",
        "\n",
        "\n",
        "Going back to the original dataframe containing our dataset, let us start by dropping classes occuring less or equal to 26 times in total, and from there onwards we consider regrouping the remaining ones towards having 2 classes."
      ],
      "metadata": {
        "id": "yS3saFCuja_t"
      }
    },
    {
      "cell_type": "code",
      "source": [
        "#drop rows containing a label in review_rating column occuring less than 78 times\n",
        "for i in range (26):\n",
        "  filtered_df=df[df.review_rating.isin(classes.index[classes.gt(i)])]\n"
      ],
      "metadata": {
        "id": "TaICMIAnvP_O"
      },
      "execution_count": 71,
      "outputs": []
    },
    {
      "cell_type": "code",
      "source": [
        "filtered_df.info()"
      ],
      "metadata": {
        "colab": {
          "base_uri": "https://localhost:8080/"
        },
        "id": "gpqsshcDvewB",
        "outputId": "9130a600-8624-4a38-8b3f-6171a31bd7ce"
      },
      "execution_count": 72,
      "outputs": [
        {
          "output_type": "stream",
          "name": "stdout",
          "text": [
            "<class 'pandas.core.frame.DataFrame'>\n",
            "Int64Index: 5051 entries, 0 to 5631\n",
            "Data columns (total 7 columns):\n",
            " #   Column             Non-Null Count  Dtype \n",
            "---  ------             --------------  ----- \n",
            " 0   reviewer_name      5051 non-null   object\n",
            " 1   claim_text         5051 non-null   object\n",
            " 2   review_date        5051 non-null   object\n",
            " 3   review_url         5051 non-null   object\n",
            " 4   review_rating      5051 non-null   object\n",
            " 5   claim_author_name  5051 non-null   object\n",
            " 6   claim_date         5051 non-null   object\n",
            "dtypes: object(7)\n",
            "memory usage: 315.7+ KB\n"
          ]
        }
      ]
    },
    {
      "cell_type": "code",
      "source": [
        "filtered_classes=filtered_df['review_rating'].value_counts()\n",
        "print(filtered_classes)"
      ],
      "metadata": {
        "colab": {
          "base_uri": "https://localhost:8080/"
        },
        "id": "Ki6k8Lk6v_3_",
        "outputId": "ce07c341-5f8b-4c2e-91d0-a131a5a13414"
      },
      "execution_count": 74,
      "outputs": [
        {
          "output_type": "stream",
          "name": "stdout",
          "text": [
            "False                  1304\n",
            "Mostly False            671\n",
            "Pants on Fire           666\n",
            "Half True               645\n",
            "Mostly True             594\n",
            "True                    343\n",
            "Four Pinocchios         246\n",
            "Three Pinocchios        160\n",
            "Two Pinocchios          112\n",
            "Distorts the Facts       61\n",
            "Misleading               60\n",
            "No Evidence              49\n",
            "Not the Whole Story      45\n",
            "Spins the Facts          41\n",
            "Not the whole story      27\n",
            "Needs context            27\n",
            "Name: review_rating, dtype: int64\n"
          ]
        }
      ]
    },
    {
      "cell_type": "markdown",
      "source": [
        "For the following labels: No evidence, Not the Whole Story, spins the facts, Not the whole story, Needs context, Misleading => I am not able to infer from these labels whether the news article is fake or real, hence I am not sure how I can use these labels in re-grouping them into Fake or Real News, so I am going to drop them and regroup the rest as follows:\n",
        "1. False, mostly false, pants on fire, half true, four pinocchios, three pinocchios, two pinocchios, distorts the fact ===> FAKE: 0,\n",
        "2. Mostly True, True ==> REAL: 1. \n",
        "\n",
        "\n",
        "I made the assumption of Mostly True to be Real news, and Half true to be Fake news. "
      ],
      "metadata": {
        "id": "Kas4I3FN0mrH"
      }
    },
    {
      "cell_type": "code",
      "source": [
        "#re-iterating to remove the above-mentioned classes \n",
        "for i in range (61):\n",
        "  filtered_df=df[df.review_rating.isin(classes.index[classes.gt(i)])]\n",
        "\n",
        "#double-check:\n",
        "filtered_classes=filtered_df['review_rating'].value_counts()\n",
        "print(filtered_classes)"
      ],
      "metadata": {
        "colab": {
          "base_uri": "https://localhost:8080/"
        },
        "id": "ZUl3JXlx3MyV",
        "outputId": "7330acd1-517d-4b58-c6fc-c0f9c5ce6d4b"
      },
      "execution_count": 76,
      "outputs": [
        {
          "output_type": "stream",
          "name": "stdout",
          "text": [
            "False                 1304\n",
            "Mostly False           671\n",
            "Pants on Fire          666\n",
            "Half True              645\n",
            "Mostly True            594\n",
            "True                   343\n",
            "Four Pinocchios        246\n",
            "Three Pinocchios       160\n",
            "Two Pinocchios         112\n",
            "Distorts the Facts      61\n",
            "Name: review_rating, dtype: int64\n"
          ]
        }
      ]
    },
    {
      "cell_type": "code",
      "source": [
        "Labels = {'False':0, 'Mostly False':0, 'Pants on Fire':0, 'Half True': 0, 'Mostly True': 1, 'True': 1, 'Four Pinocchios': 0, 'Three Pinocchios': 0, 'Two Pinocchios': 0, 'Distorts the Facts': 0}\n",
        "filtered_df['review_rating']=filtered_df['review_rating'].apply(lambda x:Labels[x])"
      ],
      "metadata": {
        "colab": {
          "base_uri": "https://localhost:8080/"
        },
        "id": "p8UdILpJ4BV6",
        "outputId": "311d7f01-32b8-488c-c2a8-1133214aef07"
      },
      "execution_count": 77,
      "outputs": [
        {
          "output_type": "stream",
          "name": "stderr",
          "text": [
            "/usr/local/lib/python3.7/dist-packages/ipykernel_launcher.py:2: SettingWithCopyWarning: \n",
            "A value is trying to be set on a copy of a slice from a DataFrame.\n",
            "Try using .loc[row_indexer,col_indexer] = value instead\n",
            "\n",
            "See the caveats in the documentation: https://pandas.pydata.org/pandas-docs/stable/user_guide/indexing.html#returning-a-view-versus-a-copy\n",
            "  \n"
          ]
        }
      ]
    },
    {
      "cell_type": "code",
      "source": [
        "filtered_df['review_rating'].value_counts()"
      ],
      "metadata": {
        "colab": {
          "base_uri": "https://localhost:8080/"
        },
        "id": "F-QJWQOc4uPn",
        "outputId": "ed9aa54b-81ca-4564-fd0a-325fa4bbd9a5"
      },
      "execution_count": 78,
      "outputs": [
        {
          "output_type": "execute_result",
          "data": {
            "text/plain": [
              "0    3865\n",
              "1     937\n",
              "Name: review_rating, dtype: int64"
            ]
          },
          "metadata": {},
          "execution_count": 78
        }
      ]
    },
    {
      "cell_type": "code",
      "source": [
        "filtered_df['review_rating'].hist()"
      ],
      "metadata": {
        "colab": {
          "base_uri": "https://localhost:8080/",
          "height": 283
        },
        "id": "dhGzc2mr_3hV",
        "outputId": "51178a11-6c6d-4f79-d077-ec13481a815d"
      },
      "execution_count": 79,
      "outputs": [
        {
          "output_type": "execute_result",
          "data": {
            "text/plain": [
              "<matplotlib.axes._subplots.AxesSubplot at 0x7f4b1435f6d0>"
            ]
          },
          "metadata": {},
          "execution_count": 79
        },
        {
          "output_type": "display_data",
          "data": {
            "text/plain": [
              "<Figure size 432x288 with 1 Axes>"
            ],
            "image/png": "[encoded data removed]"
          },
          "metadata": {
            "needs_background": "light"
          }
        }
      ]
    },
    {
      "cell_type": "markdown",
      "source": [
        "It is clearly seen that the data set is highly imbalanced: ~ 20% for REAL, 80% for FAKE. It is best recommended to address data imbalance prior to training a model so that we do not end up biasing the model in favor to the majority class (which is FAKE in our case). In NLP applications, there exists several techniques in data augmentation to address this imbalance, however, we have to be careful in deciding the method that works best, and this is usually a fruit of experiemntation, namely an iterative trial and error process. At this point, I will proceed with this imbalanced data set, and we will deal with this later on after having defined the preprocessing flow."
      ],
      "metadata": {
        "id": "G5Y-iFUY_8f_"
      }
    },
    {
      "cell_type": "code",
      "source": [
        "#first things first, let us drop the unecessary columns from the filtered dataframe and keep the text and review rating columns:\n",
        "data=filtered_df[['claim_text', 'review_rating']]\n",
        "data.info()"
      ],
      "metadata": {
        "colab": {
          "base_uri": "https://localhost:8080/"
        },
        "id": "i_sSUNwMFQ8j",
        "outputId": "3fa1922a-eff8-4784-ab42-452684689586"
      },
      "execution_count": 139,
      "outputs": [
        {
          "output_type": "stream",
          "name": "stdout",
          "text": [
            "<class 'pandas.core.frame.DataFrame'>\n",
            "Int64Index: 4802 entries, 0 to 5631\n",
            "Data columns (total 2 columns):\n",
            " #   Column         Non-Null Count  Dtype \n",
            "---  ------         --------------  ----- \n",
            " 0   claim_text     4802 non-null   object\n",
            " 1   review_rating  4802 non-null   int64 \n",
            "dtypes: int64(1), object(1)\n",
            "memory usage: 241.6+ KB\n"
          ]
        }
      ]
    },
    {
      "cell_type": "code",
      "source": [
        "#change the target column from int64 to int32 to reduce memory\n",
        "data['review_rating']=data['review_rating'].astype('int32')"
      ],
      "metadata": {
        "colab": {
          "base_uri": "https://localhost:8080/"
        },
        "id": "Dt9mRZ1aF_69",
        "outputId": "f5fa12d5-1acf-40b0-ed78-8c7aeef80bd3"
      },
      "execution_count": 140,
      "outputs": [
        {
          "output_type": "stream",
          "name": "stderr",
          "text": [
            "/usr/local/lib/python3.7/dist-packages/ipykernel_launcher.py:2: SettingWithCopyWarning: \n",
            "A value is trying to be set on a copy of a slice from a DataFrame.\n",
            "Try using .loc[row_indexer,col_indexer] = value instead\n",
            "\n",
            "See the caveats in the documentation: https://pandas.pydata.org/pandas-docs/stable/user_guide/indexing.html#returning-a-view-versus-a-copy\n",
            "  \n"
          ]
        }
      ]
    },
    {
      "cell_type": "code",
      "source": [
        "data.info()"
      ],
      "metadata": {
        "colab": {
          "base_uri": "https://localhost:8080/"
        },
        "id": "ecU0COVEGUTk",
        "outputId": "01e81a79-d402-4163-e5ed-bb03adffd16e"
      },
      "execution_count": 87,
      "outputs": [
        {
          "output_type": "stream",
          "name": "stdout",
          "text": [
            "<class 'pandas.core.frame.DataFrame'>\n",
            "Int64Index: 4802 entries, 0 to 5631\n",
            "Data columns (total 2 columns):\n",
            " #   Column         Non-Null Count  Dtype \n",
            "---  ------         --------------  ----- \n",
            " 0   claim_text     4802 non-null   object\n",
            " 1   review_rating  4802 non-null   int32 \n",
            "dtypes: int32(1), object(1)\n",
            "memory usage: 93.8+ KB\n"
          ]
        }
      ]
    },
    {
      "cell_type": "code",
      "source": [
        "#double check if null values exist, even if it is obvious from the previous cell's result\n",
        "data.isnull().values.any()"
      ],
      "metadata": {
        "colab": {
          "base_uri": "https://localhost:8080/"
        },
        "id": "lIRVEsSWGfVm",
        "outputId": "3557bcb8-899a-45a6-d710-e50b279af2ee"
      },
      "execution_count": 94,
      "outputs": [
        {
          "output_type": "execute_result",
          "data": {
            "text/plain": [
              "False"
            ]
          },
          "metadata": {},
          "execution_count": 94
        }
      ]
    },
    {
      "cell_type": "markdown",
      "source": [
        "# Data Cleaning and Preprocessing "
      ],
      "metadata": {
        "id": "44uNDDYSlUa1"
      }
    },
    {
      "cell_type": "markdown",
      "source": [
        "Cleaning steps include:\n",
        "1. converting lower case to upper case,\n",
        "2. removing non alphabetic characters,\n",
        "3. tokenizing and stemming,\n",
        "4. removing stop words \n"
      ],
      "metadata": {
        "id": "VPAzDxkBI94B"
      }
    },
    {
      "cell_type": "code",
      "source": [
        "#importing necesssary librairies\n",
        "import re \n",
        "import nltk\n",
        "from nltk.corpus import stopwords\n",
        "from nltk.stem.porter import PorterStemmer\n",
        "#from sklearn.feature_extraction.text import TfidfVectorizer\n",
        "from nltk.tokenize import word_tokenize\n",
        "\n",
        "\n",
        "nltk.download('stopwords')\n",
        "nltk.download('punkt')\n",
        "english_stopwords = stopwords.words('english')\n",
        "\n",
        "stemmer = PorterStemmer()\n",
        "\n"
      ],
      "metadata": {
        "colab": {
          "base_uri": "https://localhost:8080/"
        },
        "id": "KVwVWnYCEzJ0",
        "outputId": "8eeafe49-5c45-4e57-9a9b-03ff8d21f97a"
      },
      "execution_count": 99,
      "outputs": [
        {
          "output_type": "stream",
          "name": "stderr",
          "text": [
            "[nltk_data] Downloading package stopwords to /root/nltk_data...\n",
            "[nltk_data]   Package stopwords is already up-to-date!\n",
            "[nltk_data] Downloading package punkt to /root/nltk_data...\n",
            "[nltk_data]   Unzipping tokenizers/punkt.zip.\n"
          ]
        }
      ]
    },
    {
      "cell_type": "code",
      "source": [
        "#define a function responsible of all the cleaning steps \n",
        "def clean_text(text):\n",
        "  # convert to lower case\n",
        "  text = text.lower()\n",
        "\n",
        "  # remove none alphabetic characters\n",
        "  text = re.sub(r'[^a-z]', ' ', text)\n",
        "\n",
        "\n",
        "  # stem words \n",
        "  # split into words\n",
        "  tokens = word_tokenize(text)\n",
        "\n",
        "  # stemming of words\n",
        "  stemmed = [stemmer.stem(word) for word in tokens]\n",
        "\n",
        "  text = ' '.join(stemmed)#now we reconstruct the sentence by joining them through a space character\n",
        "\n",
        "  # remove stopwords\n",
        "  text = ' '.join([word for word in text.split() if word not in english_stopwords]) \n",
        "  return text"
      ],
      "metadata": {
        "id": "wPq_S-JYKpku"
      },
      "execution_count": 100,
      "outputs": []
    },
    {
      "cell_type": "code",
      "source": [
        "#let us test it on a text and see the outcome:\n",
        "print(data['claim_text'][1])\n",
        "print(clean_text(data['claim_text'][1]))"
      ],
      "metadata": {
        "colab": {
          "base_uri": "https://localhost:8080/"
        },
        "id": "7XdJdWYyKVBt",
        "outputId": "0f712551-b1db-47b2-8da5-96a07d194403"
      },
      "execution_count": 101,
      "outputs": [
        {
          "output_type": "stream",
          "name": "stdout",
          "text": [
            "Says Facebook shut down a \"Chick-Fil-A Appreciation Day.\"\n",
            "say facebook shut chick fil appreci day\n"
          ]
        }
      ]
    },
    {
      "cell_type": "code",
      "source": [
        "#now apply the cleaning steps on all the texts found in the dataframe\n",
        "# apply to all dataset\n",
        "data['claim_text'] = data['claim_text'].apply(clean_text)\n",
        "data.head() "
      ],
      "metadata": {
        "colab": {
          "base_uri": "https://localhost:8080/",
          "height": 310
        },
        "id": "FJ4hvTwJK8uL",
        "outputId": "b51d4789-a613-4c57-9804-696eb7fbb569"
      },
      "execution_count": 141,
      "outputs": [
        {
          "output_type": "stream",
          "name": "stderr",
          "text": [
            "/usr/local/lib/python3.7/dist-packages/ipykernel_launcher.py:3: SettingWithCopyWarning: \n",
            "A value is trying to be set on a copy of a slice from a DataFrame.\n",
            "Try using .loc[row_indexer,col_indexer] = value instead\n",
            "\n",
            "See the caveats in the documentation: https://pandas.pydata.org/pandas-docs/stable/user_guide/indexing.html#returning-a-view-versus-a-copy\n",
            "  This is separate from the ipykernel package so we can avoid doing imports until\n"
          ]
        },
        {
          "output_type": "execute_result",
          "data": {
            "text/plain": [
              "                                          claim_text  review_rating\n",
              "0     quot michel obama say white folk wrong america              0\n",
              "1            say facebook shut chick fil appreci day              0\n",
              "3  break democrat congressmen isi payrol arrest t...              0\n",
              "4   dalla cowboy put sticker helmet polic offic kill              1\n",
              "5  tom suozzi rais tax hundr million dollar nassa...              1"
            ],
            "text/html": [
              "\n",
              "  <div id=\"df-8c5a69f9-dcaa-4ed5-a79b-5c486f4b3a21\">\n",
              "    <div class=\"colab-df-container\">\n",
              "      <div>\n",
              "<style scoped>\n",
              "    .dataframe tbody tr th:only-of-type {\n",
              "        vertical-align: middle;\n",
              "    }\n",
              "\n",
              "    .dataframe tbody tr th {\n",
              "        vertical-align: top;\n",
              "    }\n",
              "\n",
              "    .dataframe thead th {\n",
              "        text-align: right;\n",
              "    }\n",
              "</style>\n",
              "<table border=\"1\" class=\"dataframe\">\n",
              "  <thead>\n",
              "    <tr style=\"text-align: right;\">\n",
              "      <th></th>\n",
              "      <th>claim_text</th>\n",
              "      <th>review_rating</th>\n",
              "    </tr>\n",
              "  </thead>\n",
              "  <tbody>\n",
              "    <tr>\n",
              "      <th>0</th>\n",
              "      <td>quot michel obama say white folk wrong america</td>\n",
              "      <td>0</td>\n",
              "    </tr>\n",
              "    <tr>\n",
              "      <th>1</th>\n",
              "      <td>say facebook shut chick fil appreci day</td>\n",
              "      <td>0</td>\n",
              "    </tr>\n",
              "    <tr>\n",
              "      <th>3</th>\n",
              "      <td>break democrat congressmen isi payrol arrest t...</td>\n",
              "      <td>0</td>\n",
              "    </tr>\n",
              "    <tr>\n",
              "      <th>4</th>\n",
              "      <td>dalla cowboy put sticker helmet polic offic kill</td>\n",
              "      <td>1</td>\n",
              "    </tr>\n",
              "    <tr>\n",
              "      <th>5</th>\n",
              "      <td>tom suozzi rais tax hundr million dollar nassa...</td>\n",
              "      <td>1</td>\n",
              "    </tr>\n",
              "  </tbody>\n",
              "</table>\n",
              "</div>\n",
              "      <button class=\"colab-df-convert\" onclick=\"convertToInteractive('df-8c5a69f9-dcaa-4ed5-a79b-5c486f4b3a21')\"\n",
              "              title=\"Convert this dataframe to an interactive table.\"\n",
              "              style=\"display:none;\">\n",
              "        \n",
              "  <svg xmlns=\"http://www.w3.org/2000/svg\" height=\"24px\"viewBox=\"0 0 24 24\"\n",
              "       width=\"24px\">\n",
              "    <path d=\"M0 0h24v24H0V0z\" fill=\"none\"/>\n",
              "    <path d=\"M18.56 5.44l.94 2.06.94-2.06 2.06-.94-2.06-.94-.94-2.06-.94 2.06-2.06.94zm-11 1L8.5 8.5l.94-2.06 2.06-.94-2.06-.94L8.5 2.5l-.94 2.06-2.06.94zm10 10l.94 2.06.94-2.06 2.06-.94-2.06-.94-.94-2.06-.94 2.06-2.06.94z\"/><path d=\"M17.41 7.96l-1.37-1.37c-.4-.4-.92-.59-1.43-.59-.52 0-1.04.2-1.43.59L10.3 9.45l-7.72 7.72c-.78.78-.78 2.05 0 2.83L4 21.41c.39.39.9.59 1.41.59.51 0 1.02-.2 1.41-.59l7.78-7.78 2.81-2.81c.8-.78.8-2.07 0-2.86zM5.41 20L4 18.59l7.72-7.72 1.47 1.35L5.41 20z\"/>\n",
              "  </svg>\n",
              "      </button>\n",
              "      \n",
              "  <style>\n",
              "    .colab-df-container {\n",
              "      display:flex;\n",
              "      flex-wrap:wrap;\n",
              "      gap: 12px;\n",
              "    }\n",
              "\n",
              "    .colab-df-convert {\n",
              "      background-color: #E8F0FE;\n",
              "      border: none;\n",
              "      border-radius: 50%;\n",
              "      cursor: pointer;\n",
              "      display: none;\n",
              "      fill: #1967D2;\n",
              "      height: 32px;\n",
              "      padding: 0 0 0 0;\n",
              "      width: 32px;\n",
              "    }\n",
              "\n",
              "    .colab-df-convert:hover {\n",
              "      background-color: #E2EBFA;\n",
              "      box-shadow: 0px 1px 2px rgba(60, 64, 67, 0.3), 0px 1px 3px 1px rgba(60, 64, 67, 0.15);\n",
              "      fill: #174EA6;\n",
              "    }\n",
              "\n",
              "    [theme=dark] .colab-df-convert {\n",
              "      background-color: #3B4455;\n",
              "      fill: #D2E3FC;\n",
              "    }\n",
              "\n",
              "    [theme=dark] .colab-df-convert:hover {\n",
              "      background-color: #434B5C;\n",
              "      box-shadow: 0px 1px 3px 1px rgba(0, 0, 0, 0.15);\n",
              "      filter: drop-shadow(0px 1px 2px rgba(0, 0, 0, 0.3));\n",
              "      fill: #FFFFFF;\n",
              "    }\n",
              "  </style>\n",
              "\n",
              "      <script>\n",
              "        const buttonEl =\n",
              "          document.querySelector('#df-8c5a69f9-dcaa-4ed5-a79b-5c486f4b3a21 button.colab-df-convert');\n",
              "        buttonEl.style.display =\n",
              "          google.colab.kernel.accessAllowed ? 'block' : 'none';\n",
              "\n",
              "        async function convertToInteractive(key) {\n",
              "          const element = document.querySelector('#df-8c5a69f9-dcaa-4ed5-a79b-5c486f4b3a21');\n",
              "          const dataTable =\n",
              "            await google.colab.kernel.invokeFunction('convertToInteractive',\n",
              "                                                     [key], {});\n",
              "          if (!dataTable) return;\n",
              "\n",
              "          const docLinkHtml = 'Like what you see? Visit the ' +\n",
              "            '<a target=\"_blank\" href=https://colab.research.google.com/notebooks/data_table.ipynb>data table notebook</a>'\n",
              "            + ' to learn more about interactive tables.';\n",
              "          element.innerHTML = '';\n",
              "          dataTable['output_type'] = 'display_data';\n",
              "          await google.colab.output.renderOutput(dataTable, element);\n",
              "          const docLink = document.createElement('div');\n",
              "          docLink.innerHTML = docLinkHtml;\n",
              "          element.appendChild(docLink);\n",
              "        }\n",
              "      </script>\n",
              "    </div>\n",
              "  </div>\n",
              "  "
            ]
          },
          "metadata": {},
          "execution_count": 141
        }
      ]
    },
    {
      "cell_type": "markdown",
      "source": [
        "Let us split the data set into training and testing:"
      ],
      "metadata": {
        "id": "4Pq7QuS0LW3h"
      }
    },
    {
      "cell_type": "code",
      "source": [
        "from sklearn.model_selection import train_test_split\n",
        "\n",
        "\n",
        "X = data['claim_text'].values\n",
        "y = data['review_rating'].values\n",
        "\n",
        "# Split data into 80% training & 20% test\n",
        "# let's all use a random state of 42 for example to ensure having the same split \n",
        "x_train, x_test, y_train, y_test = train_test_split(X, y, test_size=0.2, random_state=42)\n",
        "\n",
        "print(x_train.shape, y_train.shape)\n",
        "print(x_test.shape, y_test.shape)"
      ],
      "metadata": {
        "colab": {
          "base_uri": "https://localhost:8080/"
        },
        "id": "x0_kIRmQLaeQ",
        "outputId": "3cc18cfa-ce47-4914-c356-3f89f7e9bc00"
      },
      "execution_count": 142,
      "outputs": [
        {
          "output_type": "stream",
          "name": "stdout",
          "text": [
            "(3841,) (3841,)\n",
            "(961,) (961,)\n"
          ]
        }
      ]
    },
    {
      "cell_type": "markdown",
      "source": [
        "Let us perform feature extraction using a bag of words"
      ],
      "metadata": {
        "id": "e7yAPjsDMP_q"
      }
    },
    {
      "cell_type": "code",
      "source": [
        "from sklearn.feature_extraction.text import CountVectorizer\n",
        "\n",
        "# define a CountVectorizer (with binary=True and max_features=10000)\n",
        "vectorizer = CountVectorizer(binary=True, max_features=100000)  \n",
        "\n",
        "# learn the vocabulary of all tokens in our training dataset\n",
        "vectorizer.fit(x_train)  \n",
        "\n",
        "# transform x_train to bag of words\n",
        "x_train_bow = vectorizer.transform(x_train)  \n",
        "x_test_bow = vectorizer.transform(x_test)   \n",
        "\n",
        "print(x_train_bow.shape, y_train.shape)#each row should have a max. size of 10 000 \n",
        "print(x_test_bow.shape, y_test.shape)"
      ],
      "metadata": {
        "colab": {
          "base_uri": "https://localhost:8080/"
        },
        "id": "J-M_69eFMTHr",
        "outputId": "e1249d76-f880-4b3a-c707-5c5e4e00f4e8"
      },
      "execution_count": 106,
      "outputs": [
        {
          "output_type": "stream",
          "name": "stdout",
          "text": [
            "(3841, 5210) (3841,)\n",
            "(961, 5210) (961,)\n"
          ]
        }
      ]
    },
    {
      "cell_type": "markdown",
      "source": [
        "# Logistic Regression for Binary Classification: Training and Evaluation Metrics"
      ],
      "metadata": {
        "id": "NjlRQQCMlFK1"
      }
    },
    {
      "cell_type": "markdown",
      "source": [
        "Let us train a logistic regression model to perform binary classification"
      ],
      "metadata": {
        "id": "L-bAmF01lHo8"
      }
    },
    {
      "cell_type": "code",
      "source": [
        "from sklearn.linear_model import LogisticRegression\n",
        "from sklearn.metrics import accuracy_score, precision_score, recall_score, f1_score\n",
        "# define the LogisticRegression classifier\n",
        "model = LogisticRegression()\n",
        "\n",
        "# train the classifier on the training data\n",
        "model.fit(x_train_bow, y_train)\n",
        "print('Model trained!')\n",
        "\n",
        "# get the mean accuracy on the training data\n",
        "acc_train = model.score(x_train_bow, y_train) \n",
        "\n",
        "\n",
        "print('Training Accuracy:', acc_train)"
      ],
      "metadata": {
        "colab": {
          "base_uri": "https://localhost:8080/"
        },
        "id": "8UB2XKTQMyYy",
        "outputId": "30ee3e2b-5c6a-419f-eee9-9adc251a7ee5"
      },
      "execution_count": 119,
      "outputs": [
        {
          "output_type": "stream",
          "name": "stdout",
          "text": [
            "Model trained!\n",
            "Training Accuracy: 0.9276230148398854\n"
          ]
        }
      ]
    },
    {
      "cell_type": "code",
      "source": [
        "#test set:\n",
        "y_pred=model.predict(x_test_bow)"
      ],
      "metadata": {
        "id": "YAN1ZA6bVVSF"
      },
      "execution_count": 116,
      "outputs": []
    },
    {
      "cell_type": "code",
      "source": [
        "#test set metrics\n",
        "accuracy=accuracy_score(y_test,y_pred)\n",
        "recall=recall_score(y_test,y_pred)\n",
        "precision=precision_score(y_test,y_pred)\n",
        "f1=f1_score(y_test,y_pred)\n",
        "\n",
        "print('Accuracy:',accuracy)\n",
        "print('Recall:', recall)\n",
        "print('Precision:',precision)\n",
        "print('F1 score:',f1)"
      ],
      "metadata": {
        "colab": {
          "base_uri": "https://localhost:8080/"
        },
        "id": "pdhwwrnbWBcq",
        "outputId": "4e9e0087-97c8-4194-aa32-5bfc0e57708c"
      },
      "execution_count": 117,
      "outputs": [
        {
          "output_type": "stream",
          "name": "stdout",
          "text": [
            "Accuracy: 0.785639958376691\n",
            "Recall: 0.1932367149758454\n",
            "Precision: 0.5063291139240507\n",
            "F1 score: 0.27972027972027974\n"
          ]
        }
      ]
    },
    {
      "cell_type": "code",
      "source": [
        "#number of samples of the testing data set \n",
        "sample_number=y_test.shape[0]\n",
        "#How many times the classifier was wrong:\n",
        "y_wrong = np.count_nonzero(y_test - y_pred, axis = 0)\n",
        "#How many times the classifier was correct:\n",
        "y_correct = sample_number - y_wrong\n",
        "#Accuracy formula:\n",
        "accuracy = float(y_correct) / sample_number\n",
        "\n",
        "print(\"Classifier has \", y_correct, \" good classified outputs\")\n",
        "print(\"Classifier has \", y_wrong, \" wrong classified outputs\")\n",
        "print(\"Classifier has an accuracy score of \", accuracy*100, \"%\")"
      ],
      "metadata": {
        "colab": {
          "base_uri": "https://localhost:8080/"
        },
        "id": "anqx7TG9aEB1",
        "outputId": "2aacb989-f2c2-4027-ac56-e14fc6f89877"
      },
      "execution_count": 123,
      "outputs": [
        {
          "output_type": "stream",
          "name": "stdout",
          "text": [
            "Classifier has  755  good classified outputs\n",
            "Classifier has  206  wrong classified outputs\n",
            "Classifier has an accuracy score of  78.5639958376691 %\n"
          ]
        }
      ]
    },
    {
      "cell_type": "code",
      "source": [
        "#Let us dive a bit deeper by deriving confusion matrix, true positives, true negatives, false positives, and false negatives to be able to interpret precision, recall, f1:\n",
        "from sklearn.metrics import confusion_matrix\n",
        "conf=confusion_matrix(y_test, y_pred)\n",
        "TN, FP, FN, TP=confusion_matrix(y_test, y_pred).ravel()\n",
        "\n",
        "print(conf)"
      ],
      "metadata": {
        "colab": {
          "base_uri": "https://localhost:8080/"
        },
        "id": "rXJv08xNVP_R",
        "outputId": "f92b4b48-24cb-4bc5-b095-8360d1d09380"
      },
      "execution_count": 121,
      "outputs": [
        {
          "output_type": "stream",
          "name": "stdout",
          "text": [
            "[[715  39]\n",
            " [167  40]]\n"
          ]
        }
      ]
    },
    {
      "cell_type": "code",
      "source": [
        "#Rates:\n",
        "\n",
        "TPR = float(TP) / np.sum(y_test) #Recall\n",
        "TNR = float(TN) / (sample_number - np.sum(y_test))\n",
        "FPR = float(FP) / (sample_number - np.sum(y_test))\n",
        "FNR= float(FN) / np.sum(y_test)\n",
        "\n",
        "print (\"TPR : \", TPR)\n",
        "print (\"TNR :  \" , TNR)\n",
        "print (\"FPR : \", FPR)\n",
        "print (\"FNR : \", FNR)\n",
        "\n",
        "#Precision and Recall and F1 score - recalculated manually:\n",
        "P = float(TP)/np.sum(y_pred)\n",
        "F1=2*P*TPR/(P+TPR)\n",
        "print (\"Precision: \", P)\n",
        "print(\"Recall: \", TPR)\n",
        "print(\"F1 Score:\", F1)"
      ],
      "metadata": {
        "colab": {
          "base_uri": "https://localhost:8080/"
        },
        "id": "GThSANDaY8lZ",
        "outputId": "30e9fbf5-b494-45d2-d8e4-488e76bb1307"
      },
      "execution_count": 126,
      "outputs": [
        {
          "output_type": "stream",
          "name": "stdout",
          "text": [
            "TPR :  0.1932367149758454\n",
            "TNR :   0.9482758620689655\n",
            "FPR :  0.05172413793103448\n",
            "FNR :  0.8067632850241546\n",
            "Precision:  0.5063291139240507\n",
            "Recall:  0.1932367149758454\n",
            "F1 Score: 0.27972027972027974\n"
          ]
        }
      ]
    },
    {
      "cell_type": "markdown",
      "source": [
        "***The performance is not satisfactory, not only because of the 78% accuracy, but also by looking at other classification metrics: a precision of 50% is an indication that out of all the news that were classified by our model as Real, only 50% of them are actually Real/correctly classified! a 20% Recall is an indication that our model was only able to correctly catch 20% of the actual Real news articles! F1 score is usually the go to metric when working with imbalanced dataset, which is our case, however, the F1 score is only 27% which is also looking bad... These metrics are not only indicative of a poorly performing model, but also due to the high imbalance in the dataset. In fact, the share of the actual negatively labeled classes (FAKE) is TN+FP= 715+39= 754 is much higher than the actual positively labeled classes (REAL) which is 167+40= 207.\n",
        "\n",
        "***Moreover, by looking at our confusion matrix:\n",
        "the model has TN=715, which means it caught 715 fake news (that were actually labelled as fake), it has also mislabeled 39 news as being Real (while in reality they are FAKE). In addition, the model wrongly classified 167 articles as being fake and was able to correctly classify 40 instances as being real out of 207 actual real articles in the test set. Obviously, the model is biased towards the FAKE news class, and the TPR,TNR, FPR, FNR are a true indication of that!\n",
        "\n",
        "*** So what can be done next? \n",
        "Towards improving the ML model, one can take two separate directions: Either model-oriented improvements (such as changing ML algorithm, perform hyper-parameter tuning) OR data-oriented approach (such as dealing with bias, imbalances, increasing data set size by augmentation or simply collecting more data!)"
      ],
      "metadata": {
        "id": "JEw-07JmfDBI"
      }
    },
    {
      "cell_type": "markdown",
      "source": [
        "# Logistic Regression Model Improvement: Hyper-parameter Tuning "
      ],
      "metadata": {
        "id": "E-NeYFIOl-je"
      }
    },
    {
      "cell_type": "markdown",
      "source": [
        "As a first step towards improving our model, let us perform  model improvement by Hyper-parameter tuning. For this matter we will use Grid Search to find what is the best regularization method to be used:"
      ],
      "metadata": {
        "id": "iAbmlXosbf3L"
      }
    },
    {
      "cell_type": "code",
      "source": [
        "#Grid Search CV for regularization \n",
        "from sklearn.model_selection import GridSearchCV\n",
        "model1 = LogisticRegression(solver='liblinear')\n",
        "\n",
        "param_grid = [\n",
        "  {'C': [0.1, 1, 10, 100, 1000], 'penalty': ['l1']},\n",
        "  {'C': [0.1, 1, 10, 100, 1000], 'penalty': ['l2']},\n",
        " ]\n",
        "\n",
        "clf = GridSearchCV(model1, param_grid, cv=5, refit=True, return_train_score=True)\n",
        "clf.fit(x_train_bow, y_train)\n",
        "y_pred1=clf.predict(x_test_bow)"
      ],
      "metadata": {
        "id": "SJrKoAXSmQeq"
      },
      "execution_count": 127,
      "outputs": []
    },
    {
      "cell_type": "code",
      "source": [
        "print('The best score is:', clf.best_score_)\n",
        "print('The best parameters are:', clf.best_params_)\n",
        "accuracy=accuracy_score(y_test,y_pred1)\n",
        "recall=recall_score(y_test,y_pred1)\n",
        "precision=precision_score(y_test,y_pred1)\n",
        "f1=f1_score(y_test,y_pred1)\n",
        "print('Accuracy:',accuracy)\n",
        "print('Recall:', recall)\n",
        "print('Precision:',precision)\n",
        "print('F1 score:',f1) "
      ],
      "metadata": {
        "colab": {
          "base_uri": "https://localhost:8080/"
        },
        "id": "L7NYZPapnFLS",
        "outputId": "3c4be2dc-446d-4035-bb3f-b0da3398226f"
      },
      "execution_count": 129,
      "outputs": [
        {
          "output_type": "stream",
          "name": "stdout",
          "text": [
            "The best score is: 0.8112456653662766\n",
            "The best parameters are: {'C': 0.1, 'penalty': 'l2'}\n",
            "Accuracy: 0.7835587929240374\n",
            "Recall: 0.024154589371980676\n",
            "Precision: 0.45454545454545453\n",
            "F1 score: 0.045871559633027525\n"
          ]
        }
      ]
    },
    {
      "cell_type": "markdown",
      "source": [
        "We can deduce that performing hyperparameter tuning as model-based approach to improve the performance did not add any value, so, we are going to disregard Model1 and test another way of model-based approach using Deep learning"
      ],
      "metadata": {
        "id": "Mk9QouJcnjtQ"
      }
    },
    {
      "cell_type": "markdown",
      "source": [
        "# Deep Learning Model for Binary Classification"
      ],
      "metadata": {
        "id": "IS4h9Sc_oGzd"
      }
    },
    {
      "cell_type": "markdown",
      "source": [
        "In this section we will opt for deep learning hoping to improve the performance of the classifier, same cleaning steps will be adopted except we will use the tokenizer from TF and Keras, while keeping the same train, test split used previously. "
      ],
      "metadata": {
        "id": "Bc94dAPgojvw"
      }
    },
    {
      "cell_type": "code",
      "source": [
        "#importing necessary librairies \n",
        "from numpy import array\n",
        "from tensorflow.keras.preprocessing.text import Tokenizer\n",
        "from tensorflow.keras.preprocessing.sequence import pad_sequences\n",
        "from tensorflow.keras.models import Sequential\n",
        "from tensorflow.keras.layers import RepeatVector\n",
        "from tensorflow.keras.layers import Flatten\n",
        "from tensorflow.keras.layers import Embedding, LSTM, Dense"
      ],
      "metadata": {
        "id": "O-AlFf0foRl5"
      },
      "execution_count": 164,
      "outputs": []
    },
    {
      "cell_type": "code",
      "source": [
        "#First, let us check the length distribution across rows (total number of words in each news article/row) \n",
        "\n",
        "#augment original dataframe with a column recording length of each sentence:\n",
        "data[\"Article Length\"] = data[\"claim_text\"].apply(lambda x: len(x.split()))\n",
        "#check distribution\n",
        "data[\"Article Length\"].hist()\n",
        "#Print the number of words in the longest sentence/news article\n",
        "max_words = max(data[\"Article Length\"])\n",
        "print('Longest sentence has',max_words,'words')"
      ],
      "metadata": {
        "colab": {
          "base_uri": "https://localhost:8080/",
          "height": 387
        },
        "id": "3by62JJXsmVc",
        "outputId": "75b35a66-e431-4347-e102-983b5363f4b2"
      },
      "execution_count": 143,
      "outputs": [
        {
          "output_type": "stream",
          "name": "stdout",
          "text": [
            "Longest sentence has 78 words\n"
          ]
        },
        {
          "output_type": "stream",
          "name": "stderr",
          "text": [
            "/usr/local/lib/python3.7/dist-packages/ipykernel_launcher.py:4: SettingWithCopyWarning: \n",
            "A value is trying to be set on a copy of a slice from a DataFrame.\n",
            "Try using .loc[row_indexer,col_indexer] = value instead\n",
            "\n",
            "See the caveats in the documentation: https://pandas.pydata.org/pandas-docs/stable/user_guide/indexing.html#returning-a-view-versus-a-copy\n",
            "  after removing the cwd from sys.path.\n"
          ]
        },
        {
          "output_type": "display_data",
          "data": {
            "text/plain": [
              "<Figure size 432x288 with 1 Axes>"
            ],
            "image/png": "[encoded data removed]"
          },
          "metadata": {
            "needs_background": "light"
          }
        }
      ]
    },
    {
      "cell_type": "code",
      "source": [
        "\n",
        "# define your tokenizer (with num_words=10000)\n",
        "tokenizer_obj = Tokenizer(num_words=10000)\n",
        "\n",
        "# assign an index (number) to each word using fit_on_texts function  \n",
        "tokenizer_obj.fit_on_texts(x_train)\n",
        "\n",
        "# will be used later to pad sequences\n",
        "max_length = max_words\n",
        "\n",
        "# define vocabulary size\n",
        "vocab_size = len(tokenizer_obj.word_index) \n",
        "\n",
        "# transform each text to a sequence of integers (to be used later in embeddings layer)\n",
        "X_train_tokens =  tokenizer_obj.texts_to_sequences(x_train)#we'll end up with integer encoded sequence\n",
        "X_test_tokens = tokenizer_obj.texts_to_sequences(x_test)\n",
        "\n",
        "# apply post-padding to the sequences\n",
        "X_train_pad = pad_sequences(X_train_tokens, maxlen=max_length, padding='post')#integer encoded sequence\n",
        "X_test_pad = pad_sequences(X_test_tokens, maxlen=max_length, padding='post')#it will have same length of sequence as train"
      ],
      "metadata": {
        "id": "8INRnuGmpn1Y"
      },
      "execution_count": 145,
      "outputs": []
    },
    {
      "cell_type": "code",
      "source": [
        "#let us check an encoded text\n",
        "x_train[0], X_train_pad[0]"
      ],
      "metadata": {
        "colab": {
          "base_uri": "https://localhost:8080/"
        },
        "id": "5aBgnnMAqVNf",
        "outputId": "0e6e6a77-d4b3-4597-c6ff-a44dca0a4af9"
      },
      "execution_count": 146,
      "outputs": [
        {
          "output_type": "execute_result",
          "data": {
            "text/plain": [
              "('say marsha blackburn vote reauthor violenc women act attempt protect women domest violenc stalk date rape',\n",
              " array([   1, 1903, 2346,   17, 2347,  366,   80,  120,  985,  176,   80,\n",
              "         898,  366, 2348, 1904,  316,    0,    0,    0,    0,    0,    0,\n",
              "           0,    0,    0,    0,    0,    0,    0,    0,    0,    0,    0,\n",
              "           0,    0,    0,    0,    0,    0,    0,    0,    0,    0,    0,\n",
              "           0,    0,    0,    0,    0,    0,    0,    0,    0,    0,    0,\n",
              "           0,    0,    0,    0,    0,    0,    0,    0,    0,    0,    0,\n",
              "           0,    0,    0,    0,    0,    0,    0,    0,    0,    0,    0,\n",
              "           0], dtype=int32))"
            ]
          },
          "metadata": {},
          "execution_count": 146
        }
      ]
    },
    {
      "cell_type": "code",
      "source": [
        "#let us check the size of the vocab:\n",
        "print(\"Vocabulary Size is\",vocab_size)"
      ],
      "metadata": {
        "colab": {
          "base_uri": "https://localhost:8080/"
        },
        "id": "7q9iRoelroWD",
        "outputId": "7a2df18b-8427-4d95-c5c0-881bb39d8646"
      },
      "execution_count": 148,
      "outputs": [
        {
          "output_type": "stream",
          "name": "stdout",
          "text": [
            "Vocabulary Size is 5227\n"
          ]
        }
      ]
    },
    {
      "cell_type": "code",
      "source": [
        "\n",
        "#Define the model:\n",
        "embedding_dim = 150\n",
        "\n",
        "model2=Sequential()\n",
        "model2.add(Embedding(vocab_size+1,embedding_dim,input_length=max_length))\n",
        "model2.add(LSTM(70))#LSTM require at least one arg, for exple number of recurrent units chosen at random to be 70\n",
        "model2.add(Dense(40,activation='relu'))#we cannot directly add output layer, we must add a hidden layer in between\n",
        "model2.add(Dense(1,activation='sigmoid'))#obviously this is a binary classification problem\n",
        "\n",
        "# Compile the model: assign loss & optimizer\n",
        "model2.compile(loss = 'binary_crossentropy',\n",
        "              optimizer = 'adam',\n",
        "              metrics=['Accuracy', 'Precision','Recall'])\n",
        "\n",
        "model2.summary()"
      ],
      "metadata": {
        "colab": {
          "base_uri": "https://localhost:8080/"
        },
        "id": "7ezETKx_wRdl",
        "outputId": "078912b5-7f55-41c4-8345-fe121a48b32b"
      },
      "execution_count": 167,
      "outputs": [
        {
          "output_type": "stream",
          "name": "stdout",
          "text": [
            "Model: \"sequential_10\"\n",
            "_________________________________________________________________\n",
            " Layer (type)                Output Shape              Param #   \n",
            "=================================================================\n",
            " embedding_10 (Embedding)    (None, 78, 150)           784200    \n",
            "                                                                 \n",
            " lstm_12 (LSTM)              (None, 70)                61880     \n",
            "                                                                 \n",
            " dense_14 (Dense)            (None, 40)                2840      \n",
            "                                                                 \n",
            " dense_15 (Dense)            (None, 1)                 41        \n",
            "                                                                 \n",
            "=================================================================\n",
            "Total params: 848,961\n",
            "Trainable params: 848,961\n",
            "Non-trainable params: 0\n",
            "_________________________________________________________________\n"
          ]
        }
      ]
    },
    {
      "cell_type": "code",
      "source": [
        "#train\n",
        "model2.fit(X_train_pad, y_train, batch_size=10, epochs=20, validation_data=(X_test_pad, y_test))"
      ],
      "metadata": {
        "colab": {
          "base_uri": "https://localhost:8080/"
        },
        "id": "WjGOHeQaxL0e",
        "outputId": "19585716-a668-40df-abb3-9457e923a865"
      },
      "execution_count": 169,
      "outputs": [
        {
          "output_type": "stream",
          "name": "stdout",
          "text": [
            "Epoch 1/20\n",
            "385/385 [==============================] - 31s 80ms/step - loss: 0.4881 - Accuracy: 0.8099 - precision: 0.0000e+00 - recall: 0.0000e+00 - val_loss: 0.5302 - val_Accuracy: 0.7846 - val_precision: 0.0000e+00 - val_recall: 0.0000e+00\n",
            "Epoch 2/20\n",
            "385/385 [==============================] - 21s 55ms/step - loss: 0.4879 - Accuracy: 0.8099 - precision: 0.0000e+00 - recall: 0.0000e+00 - val_loss: 0.5352 - val_Accuracy: 0.7846 - val_precision: 0.0000e+00 - val_recall: 0.0000e+00\n",
            "Epoch 3/20\n",
            "385/385 [==============================] - 21s 55ms/step - loss: 0.4864 - Accuracy: 0.8099 - precision: 0.0000e+00 - recall: 0.0000e+00 - val_loss: 0.5211 - val_Accuracy: 0.7846 - val_precision: 0.0000e+00 - val_recall: 0.0000e+00\n",
            "Epoch 4/20\n",
            "385/385 [==============================] - 21s 55ms/step - loss: 0.4874 - Accuracy: 0.8099 - precision: 0.0000e+00 - recall: 0.0000e+00 - val_loss: 0.5213 - val_Accuracy: 0.7846 - val_precision: 0.0000e+00 - val_recall: 0.0000e+00\n",
            "Epoch 5/20\n",
            "385/385 [==============================] - 22s 58ms/step - loss: 0.4874 - Accuracy: 0.8099 - precision: 0.0000e+00 - recall: 0.0000e+00 - val_loss: 0.5210 - val_Accuracy: 0.7846 - val_precision: 0.0000e+00 - val_recall: 0.0000e+00\n",
            "Epoch 6/20\n",
            "385/385 [==============================] - 22s 58ms/step - loss: 0.4875 - Accuracy: 0.8099 - precision: 0.0000e+00 - recall: 0.0000e+00 - val_loss: 0.5229 - val_Accuracy: 0.7846 - val_precision: 0.0000e+00 - val_recall: 0.0000e+00\n",
            "Epoch 7/20\n",
            "385/385 [==============================] - 21s 55ms/step - loss: 0.4881 - Accuracy: 0.8099 - precision: 0.0000e+00 - recall: 0.0000e+00 - val_loss: 0.5226 - val_Accuracy: 0.7846 - val_precision: 0.0000e+00 - val_recall: 0.0000e+00\n",
            "Epoch 8/20\n",
            "385/385 [==============================] - 26s 68ms/step - loss: 0.4862 - Accuracy: 0.8099 - precision: 0.0000e+00 - recall: 0.0000e+00 - val_loss: 0.5220 - val_Accuracy: 0.7846 - val_precision: 0.0000e+00 - val_recall: 0.0000e+00\n",
            "Epoch 9/20\n",
            "385/385 [==============================] - 21s 55ms/step - loss: 0.4874 - Accuracy: 0.8099 - precision: 0.0000e+00 - recall: 0.0000e+00 - val_loss: 0.5229 - val_Accuracy: 0.7846 - val_precision: 0.0000e+00 - val_recall: 0.0000e+00\n",
            "Epoch 10/20\n",
            "385/385 [==============================] - 21s 55ms/step - loss: 0.4877 - Accuracy: 0.8099 - precision: 0.0000e+00 - recall: 0.0000e+00 - val_loss: 0.5253 - val_Accuracy: 0.7846 - val_precision: 0.0000e+00 - val_recall: 0.0000e+00\n",
            "Epoch 11/20\n",
            "385/385 [==============================] - 22s 57ms/step - loss: 0.4884 - Accuracy: 0.8099 - precision: 0.0000e+00 - recall: 0.0000e+00 - val_loss: 0.5292 - val_Accuracy: 0.7846 - val_precision: 0.0000e+00 - val_recall: 0.0000e+00\n",
            "Epoch 12/20\n",
            "385/385 [==============================] - 21s 54ms/step - loss: 0.4873 - Accuracy: 0.8099 - precision: 0.0000e+00 - recall: 0.0000e+00 - val_loss: 0.5216 - val_Accuracy: 0.7846 - val_precision: 0.0000e+00 - val_recall: 0.0000e+00\n",
            "Epoch 13/20\n",
            "385/385 [==============================] - 21s 55ms/step - loss: 0.4871 - Accuracy: 0.8099 - precision: 0.0000e+00 - recall: 0.0000e+00 - val_loss: 0.5217 - val_Accuracy: 0.7846 - val_precision: 0.0000e+00 - val_recall: 0.0000e+00\n",
            "Epoch 14/20\n",
            "385/385 [==============================] - 22s 56ms/step - loss: 0.4866 - Accuracy: 0.8099 - precision: 0.0000e+00 - recall: 0.0000e+00 - val_loss: 0.5245 - val_Accuracy: 0.7846 - val_precision: 0.0000e+00 - val_recall: 0.0000e+00\n",
            "Epoch 15/20\n",
            "385/385 [==============================] - 22s 56ms/step - loss: 0.4867 - Accuracy: 0.8099 - precision: 0.0000e+00 - recall: 0.0000e+00 - val_loss: 0.5222 - val_Accuracy: 0.7846 - val_precision: 0.0000e+00 - val_recall: 0.0000e+00\n",
            "Epoch 16/20\n",
            "385/385 [==============================] - 22s 56ms/step - loss: 0.4878 - Accuracy: 0.8099 - precision: 0.0000e+00 - recall: 0.0000e+00 - val_loss: 0.5223 - val_Accuracy: 0.7846 - val_precision: 0.0000e+00 - val_recall: 0.0000e+00\n",
            "Epoch 17/20\n",
            "385/385 [==============================] - 22s 58ms/step - loss: 0.4880 - Accuracy: 0.8099 - precision: 0.0000e+00 - recall: 0.0000e+00 - val_loss: 0.5233 - val_Accuracy: 0.7846 - val_precision: 0.0000e+00 - val_recall: 0.0000e+00\n",
            "Epoch 18/20\n",
            "385/385 [==============================] - 22s 57ms/step - loss: 0.4867 - Accuracy: 0.8099 - precision: 0.0000e+00 - recall: 0.0000e+00 - val_loss: 0.5232 - val_Accuracy: 0.7846 - val_precision: 0.0000e+00 - val_recall: 0.0000e+00\n",
            "Epoch 19/20\n",
            "385/385 [==============================] - 22s 56ms/step - loss: 0.4872 - Accuracy: 0.8099 - precision: 0.0000e+00 - recall: 0.0000e+00 - val_loss: 0.5223 - val_Accuracy: 0.7846 - val_precision: 0.0000e+00 - val_recall: 0.0000e+00\n",
            "Epoch 20/20\n",
            "385/385 [==============================] - 22s 58ms/step - loss: 0.4873 - Accuracy: 0.8099 - precision: 0.0000e+00 - recall: 0.0000e+00 - val_loss: 0.5255 - val_Accuracy: 0.7846 - val_precision: 0.0000e+00 - val_recall: 0.0000e+00\n"
          ]
        },
        {
          "output_type": "execute_result",
          "data": {
            "text/plain": [
              "<keras.callbacks.History at 0x7f4aa74e0c90>"
            ]
          },
          "metadata": {},
          "execution_count": 169
        }
      ]
    },
    {
      "cell_type": "code",
      "source": [
        "#plot the DL model training history to have an understanding of the modelconvergence\n",
        "def plot_accuracy_and_loss(model):\n",
        "    epochs = model.history.params['epochs']\n",
        "    epochs = range(epochs)\n",
        "    val_loss = model.history.history['val_loss']\n",
        "    val_accuracy = model.history.history['val_Accuracy']\n",
        "    training_loss = model.history.history['loss']\n",
        "    training_accuracy = model.history.history['Accuracy']\n",
        "\n",
        "    plt.plot(epochs, val_loss, 'r', label='test')\n",
        "    plt.plot(epochs, training_loss, 'b', label='training')\n",
        "    plt.xlabel('epochs')\n",
        "    plt.ylabel('Loss')\n",
        "    plt.legend(loc='upper right')\n",
        "    plt.grid(True)\n",
        "    plt.show()\n",
        "\n",
        "    plt.plot(epochs, val_accuracy, 'r', label='test')\n",
        "    plt.plot(epochs, training_accuracy, 'b', label='training')\n",
        "    plt.xlabel('epochs')\n",
        "    plt.ylabel('Accuracy')\n",
        "    plt.legend(loc='lower right')\n",
        "    plt.grid(True)\n",
        "    plt.show()\n",
        "\n",
        "plot_accuracy_and_loss(model2)"
      ],
      "metadata": {
        "colab": {
          "base_uri": "https://localhost:8080/",
          "height": 541
        },
        "id": "KbeeZrFa0CG1",
        "outputId": "3fca10f5-7cc2-4f5a-f3fa-7f6f1153cc89"
      },
      "execution_count": 172,
      "outputs": [
        {
          "output_type": "display_data",
          "data": {
            "text/plain": [
              "<Figure size 432x288 with 1 Axes>"
            ],
            "image/png": "[encoded data removed]"
          },
          "metadata": {
            "needs_background": "light"
          }
        },
        {
          "output_type": "display_data",
          "data": {
            "text/plain": [
              "<Figure size 432x288 with 1 Axes>"
            ],
            "image/png": "[encoded data removed]"
          },
          "metadata": {
            "needs_background": "light"
          }
        }
      ]
    },
    {
      "cell_type": "markdown",
      "source": [
        "We notice how performance stagnates at a certain accuracy level (whether train/validation) as well as the validation and training loss! implementing model checkpoints for early stopping would have definetely saved some training time, as at some point increasing nbr of epochs did not add much of improvment to the model.\n",
        "\n",
        "Moreover, by looking at precision and recall during training we notice that they are equal to zero across all epochs (for train and validation), which validates that judging performance based on  accuracy is useless. The fact that precision and recall are equal to zero, it only means one thing: the numerator in the formula of precision and recall is the same,i.e. TP=True Positive, and is zero at all time, which leads to having a zero recall and precsion as a consequence: The model is not able to detect True Positives!\n",
        "\n",
        "Conclusion: \n",
        "1. The model2 is biased towards the negative class, i.e. FAKE news, which is not surprizing at all => it is the same conclusion obtained while training a logistic regression model.\n",
        "2. The logistic regression model might be better than the DL model for this given dataset.\n",
        "3. The adopted Model Improvments techniques have failed to improve performance since they do not address the root cause of the poor perfromance, which is Data Imbalance!"
      ],
      "metadata": {
        "id": "icSn3RLj4FtP"
      }
    },
    {
      "cell_type": "markdown",
      "source": [
        "# What are the future steps?"
      ],
      "metadata": {
        "id": "5LpKos3K6sAt"
      }
    },
    {
      "cell_type": "markdown",
      "source": [
        "Augmenting the data set by either getting more data or synthetically augmenting the data set"
      ],
      "metadata": {
        "id": "vrGaYiS-75ok"
      }
    }
  ]
}